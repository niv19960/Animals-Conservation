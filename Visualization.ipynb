{
 "cells": [
  {
   "cell_type": "code",
   "execution_count": 75,
   "metadata": {},
   "outputs": [],
   "source": [
    "import pandas as pd\n",
    "import numpy as np\n",
    "from matplotlib import pyplot as plt\n",
    "import seaborn as sns\n",
    "from scipy.stats import chi2_contingency\n",
    "import plotly.graph_objects as go\n",
    "import plotly.express as px\n",
    "import warnings\n",
    "warnings.filterwarnings(\"ignore\")"
   ]
  },
  {
   "cell_type": "code",
   "execution_count": 2,
   "metadata": {},
   "outputs": [],
   "source": [
    "animals_df = pd.read_csv(\"ANIMALS DATA - final.csv\")"
   ]
  },
  {
   "cell_type": "markdown",
   "metadata": {},
   "source": [
    "## Our variables:\n",
    "\n",
    "#### Scientific name  - strings\n",
    "\n",
    "#### Class - 3 classes: ``` Mammalia, Reptalia, Aves.```\n",
    "\n",
    "#### Order - 60 orders (strings)\n",
    "\n",
    "#### Family - 252 families (strings)\n",
    "\n",
    "#### Trend - 3 trends:\n",
    "```json\n",
    "    0 - deacrising\n",
    "    1 - stable\n",
    "    2 - increasing\n",
    "```\n",
    "#### Status - 2 statuses:\n",
    "```json\n",
    "    0 - safe animals\n",
    "    1 - endangered\n",
    "```\n",
    "#### Social - 2 options:\n",
    "```json\n",
    "    0 - solitary animals\n",
    "    1 - social animals\n",
    "```\n",
    "#### Nocturnal - 2 options:\n",
    "```json\n",
    "    0 - day active animals\n",
    "    1 - nocturnal animals\n",
    "```\n",
    "#### Diet - 4 categories:\n",
    "```json\n",
    "    0 - all eaters (meats, vegtables, insects ect.)\n",
    "    1 - carnivores\n",
    "    2 - vegetarians\n",
    "    3 - insects eaters\n",
    "    4 - scavengers\n",
    "```\n",
    "#### Mating behavior - 2 categories:\n",
    "```json\n",
    "    0 - monogamy animals (dyadic relationship)\n",
    "    1 - polygamy animals (multiple spouses)\n",
    "```\n",
    "#### Continuous variable (averages):\n",
    "```json\n",
    "    Life Span (by years)\n",
    "    Length (by cm)\n",
    "    Weight (by kg)\n",
    "    Baby Carrying\n",
    "    Incubation Period (days) \n",
    "    Independent Age (by days)\n",
    "```\n",
    "#### Continents columns (binomial columns):\n",
    "```Africa, Antarctica, Asia, Oceania (includes New-Zeland), Central America, Europe, North America, South America.```\n",
    "\n",
    "#### Climate zones (binomial columns):\n",
    "```cold, dry/desert, polar/tundra, temperate, tropical.```"
   ]
  },
  {
   "cell_type": "code",
   "execution_count": 3,
   "metadata": {},
   "outputs": [],
   "source": [
    "animals_df.set_index('Scientific Name', inplace=True)"
   ]
  },
  {
   "cell_type": "code",
   "execution_count": 4,
   "metadata": {},
   "outputs": [
    {
     "data": {
      "text/html": [
       "<div>\n",
       "<style scoped>\n",
       "    .dataframe tbody tr th:only-of-type {\n",
       "        vertical-align: middle;\n",
       "    }\n",
       "\n",
       "    .dataframe tbody tr th {\n",
       "        vertical-align: top;\n",
       "    }\n",
       "\n",
       "    .dataframe thead th {\n",
       "        text-align: right;\n",
       "    }\n",
       "</style>\n",
       "<table border=\"1\" class=\"dataframe\">\n",
       "  <thead>\n",
       "    <tr style=\"text-align: right;\">\n",
       "      <th></th>\n",
       "      <th>Class</th>\n",
       "      <th>Order</th>\n",
       "      <th>Family</th>\n",
       "      <th>Trend</th>\n",
       "      <th>Status</th>\n",
       "      <th>Life Span (years)</th>\n",
       "      <th>Length (cm)</th>\n",
       "      <th>Weight (kg)</th>\n",
       "      <th>Is Social</th>\n",
       "      <th>Is Nocturnal</th>\n",
       "      <th>...</th>\n",
       "      <th>Europe</th>\n",
       "      <th>Oceania</th>\n",
       "      <th>South America</th>\n",
       "      <th>Central America</th>\n",
       "      <th>North America</th>\n",
       "      <th>Cold</th>\n",
       "      <th>Dry/Desert</th>\n",
       "      <th>Polar/Tundra</th>\n",
       "      <th>Temperate</th>\n",
       "      <th>Tropical</th>\n",
       "    </tr>\n",
       "    <tr>\n",
       "      <th>Scientific Name</th>\n",
       "      <th></th>\n",
       "      <th></th>\n",
       "      <th></th>\n",
       "      <th></th>\n",
       "      <th></th>\n",
       "      <th></th>\n",
       "      <th></th>\n",
       "      <th></th>\n",
       "      <th></th>\n",
       "      <th></th>\n",
       "      <th></th>\n",
       "      <th></th>\n",
       "      <th></th>\n",
       "      <th></th>\n",
       "      <th></th>\n",
       "      <th></th>\n",
       "      <th></th>\n",
       "      <th></th>\n",
       "      <th></th>\n",
       "      <th></th>\n",
       "      <th></th>\n",
       "    </tr>\n",
       "  </thead>\n",
       "  <tbody>\n",
       "    <tr>\n",
       "      <th>Canis lupus arctos</th>\n",
       "      <td>1</td>\n",
       "      <td>8</td>\n",
       "      <td>canidae</td>\n",
       "      <td>1</td>\n",
       "      <td>0</td>\n",
       "      <td>12.0</td>\n",
       "      <td>50.00</td>\n",
       "      <td>51.0000</td>\n",
       "      <td>1</td>\n",
       "      <td>0</td>\n",
       "      <td>...</td>\n",
       "      <td>0</td>\n",
       "      <td>0</td>\n",
       "      <td>0</td>\n",
       "      <td>0</td>\n",
       "      <td>0</td>\n",
       "      <td>0</td>\n",
       "      <td>0</td>\n",
       "      <td>1</td>\n",
       "      <td>0</td>\n",
       "      <td>0</td>\n",
       "    </tr>\n",
       "    <tr>\n",
       "      <th>Vulpes lagopus</th>\n",
       "      <td>1</td>\n",
       "      <td>8</td>\n",
       "      <td>canidae</td>\n",
       "      <td>1</td>\n",
       "      <td>0</td>\n",
       "      <td>8.5</td>\n",
       "      <td>53.50</td>\n",
       "      <td>5.0000</td>\n",
       "      <td>0</td>\n",
       "      <td>0</td>\n",
       "      <td>...</td>\n",
       "      <td>1</td>\n",
       "      <td>0</td>\n",
       "      <td>0</td>\n",
       "      <td>0</td>\n",
       "      <td>0</td>\n",
       "      <td>0</td>\n",
       "      <td>0</td>\n",
       "      <td>1</td>\n",
       "      <td>0</td>\n",
       "      <td>0</td>\n",
       "    </tr>\n",
       "    <tr>\n",
       "      <th>Tamiasciurus hudsonicus</th>\n",
       "      <td>1</td>\n",
       "      <td>49</td>\n",
       "      <td>sciuridae</td>\n",
       "      <td>1</td>\n",
       "      <td>0</td>\n",
       "      <td>7.5</td>\n",
       "      <td>32.50</td>\n",
       "      <td>0.2395</td>\n",
       "      <td>0</td>\n",
       "      <td>0</td>\n",
       "      <td>...</td>\n",
       "      <td>0</td>\n",
       "      <td>0</td>\n",
       "      <td>0</td>\n",
       "      <td>0</td>\n",
       "      <td>0</td>\n",
       "      <td>1</td>\n",
       "      <td>1</td>\n",
       "      <td>1</td>\n",
       "      <td>1</td>\n",
       "      <td>0</td>\n",
       "    </tr>\n",
       "    <tr>\n",
       "      <th>Canis lupus</th>\n",
       "      <td>1</td>\n",
       "      <td>8</td>\n",
       "      <td>canidae</td>\n",
       "      <td>1</td>\n",
       "      <td>0</td>\n",
       "      <td>15.0</td>\n",
       "      <td>132.50</td>\n",
       "      <td>38.0000</td>\n",
       "      <td>1</td>\n",
       "      <td>1</td>\n",
       "      <td>...</td>\n",
       "      <td>1</td>\n",
       "      <td>0</td>\n",
       "      <td>0</td>\n",
       "      <td>0</td>\n",
       "      <td>0</td>\n",
       "      <td>1</td>\n",
       "      <td>1</td>\n",
       "      <td>1</td>\n",
       "      <td>1</td>\n",
       "      <td>0</td>\n",
       "    </tr>\n",
       "    <tr>\n",
       "      <th>Mustela erminea</th>\n",
       "      <td>1</td>\n",
       "      <td>8</td>\n",
       "      <td>mustelidae</td>\n",
       "      <td>1</td>\n",
       "      <td>0</td>\n",
       "      <td>6.5</td>\n",
       "      <td>24.75</td>\n",
       "      <td>0.2190</td>\n",
       "      <td>0</td>\n",
       "      <td>1</td>\n",
       "      <td>...</td>\n",
       "      <td>1</td>\n",
       "      <td>1</td>\n",
       "      <td>0</td>\n",
       "      <td>0</td>\n",
       "      <td>0</td>\n",
       "      <td>1</td>\n",
       "      <td>0</td>\n",
       "      <td>1</td>\n",
       "      <td>1</td>\n",
       "      <td>0</td>\n",
       "    </tr>\n",
       "  </tbody>\n",
       "</table>\n",
       "<p>5 rows × 28 columns</p>\n",
       "</div>"
      ],
      "text/plain": [
       "                         Class  Order      Family  Trend  Status  \\\n",
       "Scientific Name                                                    \n",
       "Canis lupus arctos           1      8     canidae      1       0   \n",
       "Vulpes lagopus               1      8     canidae      1       0   \n",
       "Tamiasciurus hudsonicus      1     49   sciuridae      1       0   \n",
       "Canis lupus                  1      8     canidae      1       0   \n",
       "Mustela erminea              1      8  mustelidae      1       0   \n",
       "\n",
       "                         Life Span (years)  Length (cm)  Weight (kg)  \\\n",
       "Scientific Name                                                        \n",
       "Canis lupus arctos                    12.0        50.00      51.0000   \n",
       "Vulpes lagopus                         8.5        53.50       5.0000   \n",
       "Tamiasciurus hudsonicus                7.5        32.50       0.2395   \n",
       "Canis lupus                           15.0       132.50      38.0000   \n",
       "Mustela erminea                        6.5        24.75       0.2190   \n",
       "\n",
       "                         Is Social  Is Nocturnal  ...  Europe  Oceania  \\\n",
       "Scientific Name                                   ...                    \n",
       "Canis lupus arctos               1             0  ...       0        0   \n",
       "Vulpes lagopus                   0             0  ...       1        0   \n",
       "Tamiasciurus hudsonicus          0             0  ...       0        0   \n",
       "Canis lupus                      1             1  ...       1        0   \n",
       "Mustela erminea                  0             1  ...       1        1   \n",
       "\n",
       "                         South America  Central America  North America  Cold  \\\n",
       "Scientific Name                                                                \n",
       "Canis lupus arctos                   0                0              0     0   \n",
       "Vulpes lagopus                       0                0              0     0   \n",
       "Tamiasciurus hudsonicus              0                0              0     1   \n",
       "Canis lupus                          0                0              0     1   \n",
       "Mustela erminea                      0                0              0     1   \n",
       "\n",
       "                         Dry/Desert  Polar/Tundra  Temperate  Tropical  \n",
       "Scientific Name                                                         \n",
       "Canis lupus arctos                0             1          0         0  \n",
       "Vulpes lagopus                    0             1          0         0  \n",
       "Tamiasciurus hudsonicus           1             1          1         0  \n",
       "Canis lupus                       1             1          1         0  \n",
       "Mustela erminea                   0             1          1         0  \n",
       "\n",
       "[5 rows x 28 columns]"
      ]
     },
     "execution_count": 4,
     "metadata": {},
     "output_type": "execute_result"
    }
   ],
   "source": [
    "animals_df.head(5)"
   ]
  },
  {
   "cell_type": "code",
   "execution_count": 5,
   "metadata": {},
   "outputs": [
    {
     "name": "stdout",
     "output_type": "stream",
     "text": [
      "<class 'pandas.core.frame.DataFrame'>\n",
      "Index: 1548 entries, Canis lupus arctos to Cistothorus palustris\n",
      "Data columns (total 28 columns):\n",
      " #   Column                    Non-Null Count  Dtype  \n",
      "---  ------                    --------------  -----  \n",
      " 0   Class                     1548 non-null   int64  \n",
      " 1   Order                     1548 non-null   int64  \n",
      " 2   Family                    1548 non-null   object \n",
      " 3   Trend                     1548 non-null   int64  \n",
      " 4   Status                    1548 non-null   int64  \n",
      " 5   Life Span (years)         1548 non-null   float64\n",
      " 6   Length (cm)               1548 non-null   float64\n",
      " 7   Weight (kg)               1548 non-null   float64\n",
      " 8   Is Social                 1548 non-null   int64  \n",
      " 9   Is Nocturnal              1548 non-null   int64  \n",
      " 10  Diet                      1548 non-null   int64  \n",
      " 11  Mating Behavior           1548 non-null   int64  \n",
      " 12  Incubation Period (days)  1548 non-null   float64\n",
      " 13  Baby Carrying             1548 non-null   float64\n",
      " 14  Independent Age (days)    1548 non-null   float64\n",
      " 15  Africa                    1548 non-null   int64  \n",
      " 16  Antarctica                1548 non-null   int64  \n",
      " 17  Asia                      1548 non-null   int64  \n",
      " 18  Europe                    1548 non-null   int64  \n",
      " 19  Oceania                   1548 non-null   int64  \n",
      " 20  South America             1548 non-null   int64  \n",
      " 21  Central America           1548 non-null   int64  \n",
      " 22  North America             1548 non-null   int64  \n",
      " 23  Cold                      1548 non-null   int64  \n",
      " 24  Dry/Desert                1548 non-null   int64  \n",
      " 25  Polar/Tundra              1548 non-null   int64  \n",
      " 26  Temperate                 1548 non-null   int64  \n",
      " 27  Tropical                  1548 non-null   int64  \n",
      "dtypes: float64(6), int64(21), object(1)\n",
      "memory usage: 350.7+ KB\n"
     ]
    }
   ],
   "source": [
    "animals_df.info()"
   ]
  },
  {
   "cell_type": "code",
   "execution_count": 6,
   "metadata": {},
   "outputs": [
    {
     "data": {
      "text/html": [
       "<div>\n",
       "<style scoped>\n",
       "    .dataframe tbody tr th:only-of-type {\n",
       "        vertical-align: middle;\n",
       "    }\n",
       "\n",
       "    .dataframe tbody tr th {\n",
       "        vertical-align: top;\n",
       "    }\n",
       "\n",
       "    .dataframe thead th {\n",
       "        text-align: right;\n",
       "    }\n",
       "</style>\n",
       "<table border=\"1\" class=\"dataframe\">\n",
       "  <thead>\n",
       "    <tr style=\"text-align: right;\">\n",
       "      <th></th>\n",
       "      <th>Class</th>\n",
       "      <th>Order</th>\n",
       "      <th>Trend</th>\n",
       "      <th>Status</th>\n",
       "      <th>Life Span (years)</th>\n",
       "      <th>Length (cm)</th>\n",
       "      <th>Weight (kg)</th>\n",
       "      <th>Is Social</th>\n",
       "      <th>Is Nocturnal</th>\n",
       "      <th>Diet</th>\n",
       "      <th>...</th>\n",
       "      <th>Europe</th>\n",
       "      <th>Oceania</th>\n",
       "      <th>South America</th>\n",
       "      <th>Central America</th>\n",
       "      <th>North America</th>\n",
       "      <th>Cold</th>\n",
       "      <th>Dry/Desert</th>\n",
       "      <th>Polar/Tundra</th>\n",
       "      <th>Temperate</th>\n",
       "      <th>Tropical</th>\n",
       "    </tr>\n",
       "  </thead>\n",
       "  <tbody>\n",
       "    <tr>\n",
       "      <th>count</th>\n",
       "      <td>1548.000000</td>\n",
       "      <td>1548.000000</td>\n",
       "      <td>1548.000000</td>\n",
       "      <td>1548.000000</td>\n",
       "      <td>1548.000000</td>\n",
       "      <td>1548.000000</td>\n",
       "      <td>1548.00000</td>\n",
       "      <td>1548.000000</td>\n",
       "      <td>1548.000000</td>\n",
       "      <td>1548.000000</td>\n",
       "      <td>...</td>\n",
       "      <td>1548.000000</td>\n",
       "      <td>1548.000000</td>\n",
       "      <td>1548.000000</td>\n",
       "      <td>1548.000000</td>\n",
       "      <td>1548.000000</td>\n",
       "      <td>1548.000000</td>\n",
       "      <td>1548.000000</td>\n",
       "      <td>1548.000000</td>\n",
       "      <td>1548.000000</td>\n",
       "      <td>1548.000000</td>\n",
       "    </tr>\n",
       "    <tr>\n",
       "      <th>mean</th>\n",
       "      <td>0.818475</td>\n",
       "      <td>28.353359</td>\n",
       "      <td>0.689276</td>\n",
       "      <td>0.275194</td>\n",
       "      <td>19.516205</td>\n",
       "      <td>93.781959</td>\n",
       "      <td>396.66103</td>\n",
       "      <td>0.568475</td>\n",
       "      <td>0.339147</td>\n",
       "      <td>1.111757</td>\n",
       "      <td>...</td>\n",
       "      <td>0.180879</td>\n",
       "      <td>0.195736</td>\n",
       "      <td>0.014212</td>\n",
       "      <td>0.014212</td>\n",
       "      <td>0.014212</td>\n",
       "      <td>0.189922</td>\n",
       "      <td>0.268088</td>\n",
       "      <td>0.106589</td>\n",
       "      <td>0.627261</td>\n",
       "      <td>0.635013</td>\n",
       "    </tr>\n",
       "    <tr>\n",
       "      <th>std</th>\n",
       "      <td>0.645201</td>\n",
       "      <td>19.621560</td>\n",
       "      <td>0.665690</td>\n",
       "      <td>0.446756</td>\n",
       "      <td>15.592749</td>\n",
       "      <td>160.012142</td>\n",
       "      <td>4690.14026</td>\n",
       "      <td>0.495449</td>\n",
       "      <td>0.473573</td>\n",
       "      <td>0.925005</td>\n",
       "      <td>...</td>\n",
       "      <td>0.385042</td>\n",
       "      <td>0.396895</td>\n",
       "      <td>0.118402</td>\n",
       "      <td>0.118402</td>\n",
       "      <td>0.118402</td>\n",
       "      <td>0.392366</td>\n",
       "      <td>0.443107</td>\n",
       "      <td>0.308690</td>\n",
       "      <td>0.483690</td>\n",
       "      <td>0.481582</td>\n",
       "    </tr>\n",
       "    <tr>\n",
       "      <th>min</th>\n",
       "      <td>0.000000</td>\n",
       "      <td>0.000000</td>\n",
       "      <td>0.000000</td>\n",
       "      <td>0.000000</td>\n",
       "      <td>1.000000</td>\n",
       "      <td>0.000000</td>\n",
       "      <td>0.00000</td>\n",
       "      <td>0.000000</td>\n",
       "      <td>0.000000</td>\n",
       "      <td>0.000000</td>\n",
       "      <td>...</td>\n",
       "      <td>0.000000</td>\n",
       "      <td>0.000000</td>\n",
       "      <td>0.000000</td>\n",
       "      <td>0.000000</td>\n",
       "      <td>0.000000</td>\n",
       "      <td>0.000000</td>\n",
       "      <td>0.000000</td>\n",
       "      <td>0.000000</td>\n",
       "      <td>0.000000</td>\n",
       "      <td>0.000000</td>\n",
       "    </tr>\n",
       "    <tr>\n",
       "      <th>25%</th>\n",
       "      <td>0.000000</td>\n",
       "      <td>8.000000</td>\n",
       "      <td>0.000000</td>\n",
       "      <td>0.000000</td>\n",
       "      <td>10.000000</td>\n",
       "      <td>28.375000</td>\n",
       "      <td>0.30000</td>\n",
       "      <td>0.000000</td>\n",
       "      <td>0.000000</td>\n",
       "      <td>0.000000</td>\n",
       "      <td>...</td>\n",
       "      <td>0.000000</td>\n",
       "      <td>0.000000</td>\n",
       "      <td>0.000000</td>\n",
       "      <td>0.000000</td>\n",
       "      <td>0.000000</td>\n",
       "      <td>0.000000</td>\n",
       "      <td>0.000000</td>\n",
       "      <td>0.000000</td>\n",
       "      <td>0.000000</td>\n",
       "      <td>0.000000</td>\n",
       "    </tr>\n",
       "    <tr>\n",
       "      <th>50%</th>\n",
       "      <td>1.000000</td>\n",
       "      <td>28.000000</td>\n",
       "      <td>1.000000</td>\n",
       "      <td>0.000000</td>\n",
       "      <td>16.000000</td>\n",
       "      <td>54.250000</td>\n",
       "      <td>2.50000</td>\n",
       "      <td>1.000000</td>\n",
       "      <td>0.000000</td>\n",
       "      <td>1.000000</td>\n",
       "      <td>...</td>\n",
       "      <td>0.000000</td>\n",
       "      <td>0.000000</td>\n",
       "      <td>0.000000</td>\n",
       "      <td>0.000000</td>\n",
       "      <td>0.000000</td>\n",
       "      <td>0.000000</td>\n",
       "      <td>0.000000</td>\n",
       "      <td>0.000000</td>\n",
       "      <td>1.000000</td>\n",
       "      <td>1.000000</td>\n",
       "    </tr>\n",
       "    <tr>\n",
       "      <th>75%</th>\n",
       "      <td>1.000000</td>\n",
       "      <td>48.000000</td>\n",
       "      <td>1.000000</td>\n",
       "      <td>1.000000</td>\n",
       "      <td>24.434109</td>\n",
       "      <td>100.000000</td>\n",
       "      <td>12.62500</td>\n",
       "      <td>1.000000</td>\n",
       "      <td>1.000000</td>\n",
       "      <td>2.000000</td>\n",
       "      <td>...</td>\n",
       "      <td>0.000000</td>\n",
       "      <td>0.000000</td>\n",
       "      <td>0.000000</td>\n",
       "      <td>0.000000</td>\n",
       "      <td>0.000000</td>\n",
       "      <td>0.000000</td>\n",
       "      <td>1.000000</td>\n",
       "      <td>0.000000</td>\n",
       "      <td>1.000000</td>\n",
       "      <td>1.000000</td>\n",
       "    </tr>\n",
       "    <tr>\n",
       "      <th>max</th>\n",
       "      <td>2.000000</td>\n",
       "      <td>59.000000</td>\n",
       "      <td>2.000000</td>\n",
       "      <td>1.000000</td>\n",
       "      <td>162.500000</td>\n",
       "      <td>2750.000000</td>\n",
       "      <td>130000.00000</td>\n",
       "      <td>1.000000</td>\n",
       "      <td>1.000000</td>\n",
       "      <td>4.000000</td>\n",
       "      <td>...</td>\n",
       "      <td>1.000000</td>\n",
       "      <td>1.000000</td>\n",
       "      <td>1.000000</td>\n",
       "      <td>1.000000</td>\n",
       "      <td>1.000000</td>\n",
       "      <td>1.000000</td>\n",
       "      <td>1.000000</td>\n",
       "      <td>1.000000</td>\n",
       "      <td>1.000000</td>\n",
       "      <td>1.000000</td>\n",
       "    </tr>\n",
       "  </tbody>\n",
       "</table>\n",
       "<p>8 rows × 27 columns</p>\n",
       "</div>"
      ],
      "text/plain": [
       "             Class        Order        Trend       Status  Life Span (years)  \\\n",
       "count  1548.000000  1548.000000  1548.000000  1548.000000        1548.000000   \n",
       "mean      0.818475    28.353359     0.689276     0.275194          19.516205   \n",
       "std       0.645201    19.621560     0.665690     0.446756          15.592749   \n",
       "min       0.000000     0.000000     0.000000     0.000000           1.000000   \n",
       "25%       0.000000     8.000000     0.000000     0.000000          10.000000   \n",
       "50%       1.000000    28.000000     1.000000     0.000000          16.000000   \n",
       "75%       1.000000    48.000000     1.000000     1.000000          24.434109   \n",
       "max       2.000000    59.000000     2.000000     1.000000         162.500000   \n",
       "\n",
       "       Length (cm)   Weight (kg)    Is Social  Is Nocturnal         Diet  ...  \\\n",
       "count  1548.000000    1548.00000  1548.000000   1548.000000  1548.000000  ...   \n",
       "mean     93.781959     396.66103     0.568475      0.339147     1.111757  ...   \n",
       "std     160.012142    4690.14026     0.495449      0.473573     0.925005  ...   \n",
       "min       0.000000       0.00000     0.000000      0.000000     0.000000  ...   \n",
       "25%      28.375000       0.30000     0.000000      0.000000     0.000000  ...   \n",
       "50%      54.250000       2.50000     1.000000      0.000000     1.000000  ...   \n",
       "75%     100.000000      12.62500     1.000000      1.000000     2.000000  ...   \n",
       "max    2750.000000  130000.00000     1.000000      1.000000     4.000000  ...   \n",
       "\n",
       "            Europe      Oceania  South America  Central America  \\\n",
       "count  1548.000000  1548.000000    1548.000000      1548.000000   \n",
       "mean      0.180879     0.195736       0.014212         0.014212   \n",
       "std       0.385042     0.396895       0.118402         0.118402   \n",
       "min       0.000000     0.000000       0.000000         0.000000   \n",
       "25%       0.000000     0.000000       0.000000         0.000000   \n",
       "50%       0.000000     0.000000       0.000000         0.000000   \n",
       "75%       0.000000     0.000000       0.000000         0.000000   \n",
       "max       1.000000     1.000000       1.000000         1.000000   \n",
       "\n",
       "       North America         Cold   Dry/Desert  Polar/Tundra    Temperate  \\\n",
       "count    1548.000000  1548.000000  1548.000000   1548.000000  1548.000000   \n",
       "mean        0.014212     0.189922     0.268088      0.106589     0.627261   \n",
       "std         0.118402     0.392366     0.443107      0.308690     0.483690   \n",
       "min         0.000000     0.000000     0.000000      0.000000     0.000000   \n",
       "25%         0.000000     0.000000     0.000000      0.000000     0.000000   \n",
       "50%         0.000000     0.000000     0.000000      0.000000     1.000000   \n",
       "75%         0.000000     0.000000     1.000000      0.000000     1.000000   \n",
       "max         1.000000     1.000000     1.000000      1.000000     1.000000   \n",
       "\n",
       "          Tropical  \n",
       "count  1548.000000  \n",
       "mean      0.635013  \n",
       "std       0.481582  \n",
       "min       0.000000  \n",
       "25%       0.000000  \n",
       "50%       1.000000  \n",
       "75%       1.000000  \n",
       "max       1.000000  \n",
       "\n",
       "[8 rows x 27 columns]"
      ]
     },
     "execution_count": 6,
     "metadata": {},
     "output_type": "execute_result"
    }
   ],
   "source": [
    "animals_df.describe()"
   ]
  },
  {
   "cell_type": "markdown",
   "metadata": {},
   "source": [
    "# Categorical variables visualizations and analyzing"
   ]
  },
  {
   "cell_type": "markdown",
   "metadata": {},
   "source": [
    "## Pie charts (percentage)"
   ]
  },
  {
   "cell_type": "code",
   "execution_count": 7,
   "metadata": {},
   "outputs": [
    {
     "data": {
      "text/plain": [
       "Text(0.5, 0.98, 'Trend and Status pie charts')"
      ]
     },
     "execution_count": 7,
     "metadata": {},
     "output_type": "execute_result"
    },
    {
     "data": {
      "image/png": "[encoded data removed]",
      "text/plain": [
       "<Figure size 1152x360 with 2 Axes>"
      ]
     },
     "metadata": {},
     "output_type": "display_data"
    }
   ],
   "source": [
    "trend_series = animals_df['Trend'].value_counts()\n",
    "trend_values = trend_series.values.tolist()\n",
    "trend_index = ['decreasing', 'stable', 'increasing']\n",
    "trend_colors = ['#E74C3C', '#F1C40F', '#27AE60']\n",
    "\n",
    "status_series = animals_df['Status'].value_counts()\n",
    "status_values = status_series.values.tolist()\n",
    "status_index = ['Safe animals', 'Endangered']\n",
    "status_colors = ['#27AE60', '#E74C3C']\n",
    "\n",
    "fig, axs = plt.subplots(1,2, figsize=(16,5))\n",
    "\n",
    "axs[0].pie(trend_values, labels=trend_index, autopct='%1.1f%%', shadow=True, startangle=90,\n",
    "           explode=(0.05, 0.05, 0.05), radius=1.5, colors=trend_colors, textprops={'fontsize':15})\n",
    "axs[1].pie(status_values, labels=status_index, autopct='%1.1f%%', shadow=True,\n",
    "           startangle=90, explode=(0.05, 0.05), radius=1.5, colors=status_colors, textprops={'fontsize':15})\n",
    "\n",
    "fig.suptitle('Trend and Status pie charts')"
   ]
  },
  {
   "cell_type": "code",
   "execution_count": 8,
   "metadata": {},
   "outputs": [
    {
     "data": {
      "text/plain": [
       "Text(0.5, 0.98, 'Social and Nocturnal animals pie charts')"
      ]
     },
     "execution_count": 8,
     "metadata": {},
     "output_type": "execute_result"
    },
    {
     "data": {
      "image/png": "[encoded data removed]",
      "text/plain": [
       "<Figure size 1152x360 with 2 Axes>"
      ]
     },
     "metadata": {},
     "output_type": "display_data"
    }
   ],
   "source": [
    "trend_series = animals_df['Is Social'].value_counts()\n",
    "trend_values = trend_series.values.tolist()\n",
    "trend_index = ['social', 'solitary']\n",
    "trend_colors = ['#F39C12', '#5D6D7E']\n",
    "\n",
    "status_series = animals_df['Is Nocturnal'].value_counts()\n",
    "status_values = status_series.values.tolist()\n",
    "status_index = ['day active', 'nocturnal']\n",
    "status_colors = ['#F39C12', '#5D6D7E']\n",
    "\n",
    "fig, axs = plt.subplots(1,2, figsize=(16,5))\n",
    "\n",
    "axs[0].pie(trend_values, labels=trend_index, autopct='%1.1f%%', shadow=True, startangle=90,\n",
    "           explode=(0.05, 0.05), radius=1.5, colors=trend_colors, textprops={'fontsize':15})\n",
    "axs[1].pie(status_values, labels=status_index, autopct='%1.1f%%', shadow=True,\n",
    "           startangle=90, explode=(0.05, 0.05), radius=1.5, colors=status_colors, textprops={'fontsize':15})\n",
    "\n",
    "fig.suptitle('Social and Nocturnal animals pie charts')"
   ]
  },
  {
   "cell_type": "code",
   "execution_count": 110,
   "metadata": {},
   "outputs": [
    {
     "data": {
      "text/plain": [
       "Text(0.5, 0.98, 'Diet and Mating Behavior pie charts')"
      ]
     },
     "execution_count": 110,
     "metadata": {},
     "output_type": "execute_result"
    },
    {
     "data": {
      "image/png": "[encoded data removed]",
      "text/plain": [
       "<Figure size 1152x360 with 2 Axes>"
      ]
     },
     "metadata": {},
     "output_type": "display_data"
    }
   ],
   "source": [
    "trend_series = animals_df['Diet'].value_counts()\n",
    "trend_values = trend_series.values.tolist()\n",
    "trend_index = ['carnivores', 'vegetarians', 'all eaters', 'insects eaters', 'scavengers']\n",
    "trend_colors = ['#C0392B', '#27AE60', '#5499C7', '#F39C12', '#707B7C']\n",
    "\n",
    "status_series = animals_df['Mating Behavior'].value_counts()\n",
    "status_values = status_series.values.tolist()\n",
    "status_index = ['monogamy', 'polygamy']\n",
    "status_colors = ['#884EA0', '#D7BDE2']\n",
    "\n",
    "fig, axs = plt.subplots(1,2, figsize=(16,5))\n",
    "\n",
    "axs[0].pie(trend_values, labels=trend_index, autopct='%1.1f%%', shadow=True, startangle=45,\n",
    "           explode=(0.05, 0.05, 0.05, 0.05, 0.05), radius=1.5, colors=trend_colors, textprops={'fontsize':12})\n",
    "axs[1].pie(status_values, labels=status_index, autopct='%1.1f%%', shadow=True,\n",
    "           startangle=60, explode=(0.05, 0.05), radius=1.5, colors=status_colors, textprops={'fontsize':15})\n",
    "\n",
    "fig.suptitle('Diet and Mating Behavior pie charts')"
   ]
  },
  {
   "cell_type": "markdown",
   "metadata": {},
   "source": [
    "## Cross tabulation between different categorical feathers:"
   ]
  },
  {
   "cell_type": "markdown",
   "metadata": {},
   "source": [
    "#### The correlation between the Status (```0 - safe, 1 - endangred```) and Trend (```0 - deacrising, 1 - stable, 2 - increasing```) columns:\n",
    "###### As we can see, there is a strong relationship between safe animals and stable and increasing trends variables, and a visible bond between endangered animals and deacresing trend (compared with the other trends)."
   ]
  },
  {
   "cell_type": "code",
   "execution_count": 11,
   "metadata": {},
   "outputs": [
    {
     "data": {
      "text/html": [
       "<div>\n",
       "<style scoped>\n",
       "    .dataframe tbody tr th:only-of-type {\n",
       "        vertical-align: middle;\n",
       "    }\n",
       "\n",
       "    .dataframe tbody tr th {\n",
       "        vertical-align: top;\n",
       "    }\n",
       "\n",
       "    .dataframe thead th {\n",
       "        text-align: right;\n",
       "    }\n",
       "</style>\n",
       "<table border=\"1\" class=\"dataframe\">\n",
       "  <thead>\n",
       "    <tr style=\"text-align: right;\">\n",
       "      <th>Status</th>\n",
       "      <th>0</th>\n",
       "      <th>1</th>\n",
       "    </tr>\n",
       "    <tr>\n",
       "      <th>Trend</th>\n",
       "      <th></th>\n",
       "      <th></th>\n",
       "    </tr>\n",
       "  </thead>\n",
       "  <tbody>\n",
       "    <tr>\n",
       "      <th>0</th>\n",
       "      <td>0.509119</td>\n",
       "      <td>0.490881</td>\n",
       "    </tr>\n",
       "    <tr>\n",
       "      <th>1</th>\n",
       "      <td>0.883590</td>\n",
       "      <td>0.116410</td>\n",
       "    </tr>\n",
       "    <tr>\n",
       "      <th>2</th>\n",
       "      <td>0.887006</td>\n",
       "      <td>0.112994</td>\n",
       "    </tr>\n",
       "  </tbody>\n",
       "</table>\n",
       "</div>"
      ],
      "text/plain": [
       "Status         0         1\n",
       "Trend                     \n",
       "0       0.509119  0.490881\n",
       "1       0.883590  0.116410\n",
       "2       0.887006  0.112994"
      ]
     },
     "execution_count": 11,
     "metadata": {},
     "output_type": "execute_result"
    }
   ],
   "source": [
    "ct_trend_status = pd.crosstab(animals_df['Trend'], animals_df['Status'], normalize='index')\n",
    "ct_trend_status"
   ]
  },
  {
   "cell_type": "code",
   "execution_count": 116,
   "metadata": {},
   "outputs": [
    {
     "data": {
      "text/plain": [
       "<matplotlib.legend.Legend at 0x27523e9bd48>"
      ]
     },
     "execution_count": 116,
     "metadata": {},
     "output_type": "execute_result"
    },
    {
     "data": {
      "image/png": "[encoded data removed]",
      "text/plain": [
       "<Figure size 540x360 with 1 Axes>"
      ]
     },
     "metadata": {
      "needs_background": "light"
     },
     "output_type": "display_data"
    }
   ],
   "source": [
    "g = sns.catplot(\n",
    "    x='Trend', \n",
    "    data = animals_df,\n",
    "    kind='count', \n",
    "    hue='Status',\n",
    "    palette=['#27AE60', '#E74C3C'],\n",
    "    height=5, \n",
    "    aspect=1.5,\n",
    "    legend=False,\n",
    "    ).set_axis_labels('Trend', 'No of animals')\n",
    "g.ax.legend(labels=['Safe','Engengred'])"
   ]
  },
  {
   "cell_type": "markdown",
   "metadata": {},
   "source": [
    "###### We conduct \"Chi-Square Test of Independence\", while the second value we get is \"p-value\". if p-value > 0.05 there is a correlation between both variables."
   ]
  },
  {
   "cell_type": "code",
   "execution_count": 115,
   "metadata": {},
   "outputs": [
    {
     "data": {
      "text/plain": [
       "(0.5171104454383247,\n",
       " 0.7721663887441514,\n",
       " 2,\n",
       " array([[0.75990488, 0.24009512],\n",
       "        [0.75990488, 0.24009512],\n",
       "        [0.75990488, 0.24009512]]))"
      ]
     },
     "execution_count": 115,
     "metadata": {},
     "output_type": "execute_result"
    }
   ],
   "source": [
    "chi2_contingency(ct_trend_status)"
   ]
  },
  {
   "cell_type": "markdown",
   "metadata": {},
   "source": [
    "#### The correlation between the Class (```0 - Birds, 1 - Mammals, 2 - Reptiles```) and Trend (```0 - deacrising, 1 - stable, 2 - increasing```) columns:\n",
    "##### We can see that animals' trend condition are not very good, because most of animals are in deacrising or stable mode. The worst ratio between the deacrising and increasing modes is in the Mammalia class."
   ]
  },
  {
   "cell_type": "code",
   "execution_count": 122,
   "metadata": {},
   "outputs": [
    {
     "data": {
      "text/plain": [
       "<matplotlib.legend.Legend at 0x2752416dc48>"
      ]
     },
     "execution_count": 122,
     "metadata": {},
     "output_type": "execute_result"
    },
    {
     "data": {
      "image/png": "[encoded data removed]",
      "text/plain": [
       "<Figure size 540x360 with 1 Axes>"
      ]
     },
     "metadata": {
      "needs_background": "light"
     },
     "output_type": "display_data"
    }
   ],
   "source": [
    "g = sns.catplot(\n",
    "    x='Class', \n",
    "    data = animals_df,\n",
    "    kind='count', \n",
    "    hue='Trend',\n",
    "    palette=['#E74C3C', '#7FB3D5', '#27AE60'],\n",
    "    height=5, \n",
    "    aspect=1.5,\n",
    "    legend=False,\n",
    "    ).set_axis_labels('Class', 'No of animals')\n",
    "g.ax.legend(labels=['Deacrisinag','Stable', 'Increacing'])"
   ]
  },
  {
   "cell_type": "markdown",
   "metadata": {},
   "source": [
    "#### The correlation between the Status (```0 - safe, 1 - endangred```) and Social (```0 - solitary, 1 - social```) columns:\n",
    "###### As we can see, social animals are more in danger than solitary animals, that could be because they are more \"naive\" - are not seem to afraid from other species."
   ]
  },
  {
   "cell_type": "code",
   "execution_count": 14,
   "metadata": {},
   "outputs": [
    {
     "data": {
      "text/html": [
       "<div>\n",
       "<style scoped>\n",
       "    .dataframe tbody tr th:only-of-type {\n",
       "        vertical-align: middle;\n",
       "    }\n",
       "\n",
       "    .dataframe tbody tr th {\n",
       "        vertical-align: top;\n",
       "    }\n",
       "\n",
       "    .dataframe thead th {\n",
       "        text-align: right;\n",
       "    }\n",
       "</style>\n",
       "<table border=\"1\" class=\"dataframe\">\n",
       "  <thead>\n",
       "    <tr style=\"text-align: right;\">\n",
       "      <th>Is Social</th>\n",
       "      <th>0</th>\n",
       "      <th>1</th>\n",
       "    </tr>\n",
       "    <tr>\n",
       "      <th>Status</th>\n",
       "      <th></th>\n",
       "      <th></th>\n",
       "    </tr>\n",
       "  </thead>\n",
       "  <tbody>\n",
       "    <tr>\n",
       "      <th>0</th>\n",
       "      <td>0.456328</td>\n",
       "      <td>0.543672</td>\n",
       "    </tr>\n",
       "    <tr>\n",
       "      <th>1</th>\n",
       "      <td>0.366197</td>\n",
       "      <td>0.633803</td>\n",
       "    </tr>\n",
       "  </tbody>\n",
       "</table>\n",
       "</div>"
      ],
      "text/plain": [
       "Is Social         0         1\n",
       "Status                       \n",
       "0          0.456328  0.543672\n",
       "1          0.366197  0.633803"
      ]
     },
     "execution_count": 14,
     "metadata": {},
     "output_type": "execute_result"
    }
   ],
   "source": [
    "ct_status_social = pd.crosstab(animals_df['Status'], animals_df['Is Social'], normalize='index')\n",
    "ct_status_social"
   ]
  },
  {
   "cell_type": "code",
   "execution_count": 118,
   "metadata": {},
   "outputs": [
    {
     "data": {
      "text/plain": [
       "Text(0, 0.5, 'Social')"
      ]
     },
     "execution_count": 118,
     "metadata": {},
     "output_type": "execute_result"
    },
    {
     "data": {
      "image/png": "[encoded data removed]",
      "text/plain": [
       "<Figure size 720x360 with 1 Axes>"
      ]
     },
     "metadata": {
      "needs_background": "light"
     },
     "output_type": "display_data"
    }
   ],
   "source": [
    "ct_status_social.plot(kind ='bar', figsize=(10,5), color=['#5D6D7E', '#F39C12'])\n",
    "plt.title('Status vs. Social', fontsize=10)\n",
    "plt.xlabel('Status')\n",
    "plt.ylabel('Social')"
   ]
  },
  {
   "cell_type": "markdown",
   "metadata": {},
   "source": [
    "#### The correlation between the Trend (```0 - deacrising, 1 - stable, 2 - increasing```) and Nocturnal (```0 - diurnal, 1 - nocturnal```) columns:\n",
    "###### As we can see, the correlation between day active animals and all trends values stronger than between nocturnal animals (maybe it is because of the fact that nocturnal animals are more hidden). The highest correlation is between day active animals and the increasing trend, thats could be because in light period of the day, it is more simple to be aware to the surrounding area and to escape from danger."
   ]
  },
  {
   "cell_type": "code",
   "execution_count": 16,
   "metadata": {},
   "outputs": [
    {
     "data": {
      "text/html": [
       "<div>\n",
       "<style scoped>\n",
       "    .dataframe tbody tr th:only-of-type {\n",
       "        vertical-align: middle;\n",
       "    }\n",
       "\n",
       "    .dataframe tbody tr th {\n",
       "        vertical-align: top;\n",
       "    }\n",
       "\n",
       "    .dataframe thead th {\n",
       "        text-align: right;\n",
       "    }\n",
       "</style>\n",
       "<table border=\"1\" class=\"dataframe\">\n",
       "  <thead>\n",
       "    <tr style=\"text-align: right;\">\n",
       "      <th>Is Nocturnal</th>\n",
       "      <th>0</th>\n",
       "      <th>1</th>\n",
       "    </tr>\n",
       "    <tr>\n",
       "      <th>Trend</th>\n",
       "      <th></th>\n",
       "      <th></th>\n",
       "    </tr>\n",
       "  </thead>\n",
       "  <tbody>\n",
       "    <tr>\n",
       "      <th>0</th>\n",
       "      <td>0.674772</td>\n",
       "      <td>0.325228</td>\n",
       "    </tr>\n",
       "    <tr>\n",
       "      <th>1</th>\n",
       "      <td>0.603086</td>\n",
       "      <td>0.396914</td>\n",
       "    </tr>\n",
       "    <tr>\n",
       "      <th>2</th>\n",
       "      <td>0.841808</td>\n",
       "      <td>0.158192</td>\n",
       "    </tr>\n",
       "  </tbody>\n",
       "</table>\n",
       "</div>"
      ],
      "text/plain": [
       "Is Nocturnal         0         1\n",
       "Trend                           \n",
       "0             0.674772  0.325228\n",
       "1             0.603086  0.396914\n",
       "2             0.841808  0.158192"
      ]
     },
     "execution_count": 16,
     "metadata": {},
     "output_type": "execute_result"
    }
   ],
   "source": [
    "ct_trend_nocturnal = pd.crosstab(animals_df['Trend'], animals_df['Is Nocturnal'], normalize='index')\n",
    "ct_trend_nocturnal"
   ]
  },
  {
   "cell_type": "code",
   "execution_count": 119,
   "metadata": {},
   "outputs": [
    {
     "data": {
      "text/plain": [
       "Text(0, 0.5, 'Nocturnal')"
      ]
     },
     "execution_count": 119,
     "metadata": {},
     "output_type": "execute_result"
    },
    {
     "data": {
      "image/png": "[encoded data removed]",
      "text/plain": [
       "<Figure size 720x360 with 1 Axes>"
      ]
     },
     "metadata": {
      "needs_background": "light"
     },
     "output_type": "display_data"
    }
   ],
   "source": [
    "ct_trend_nocturnal.plot(kind ='bar', figsize=(10,5), color=['#F39C12', '#5D6D7E'])\n",
    "plt.title('Trend vs. Nocturnal', fontsize=10)\n",
    "plt.xlabel('Trend')\n",
    "plt.ylabel('Nocturnal')"
   ]
  },
  {
   "cell_type": "markdown",
   "metadata": {},
   "source": [
    "#### The correlation between the Status (```0 - safe, 1 - endangred```) and Diet (```0 - all eaters, 1 - carnivores, 2 - vegetarians, 3 - insects eaters, 4 - scavengers```) columns:\n",
    "###### The strongest correlation is between the vegetarians and endangred animals. That could be beacose of the damage to the environment (caused by humans)."
   ]
  },
  {
   "cell_type": "code",
   "execution_count": 18,
   "metadata": {},
   "outputs": [
    {
     "data": {
      "text/html": [
       "<div>\n",
       "<style scoped>\n",
       "    .dataframe tbody tr th:only-of-type {\n",
       "        vertical-align: middle;\n",
       "    }\n",
       "\n",
       "    .dataframe tbody tr th {\n",
       "        vertical-align: top;\n",
       "    }\n",
       "\n",
       "    .dataframe thead th {\n",
       "        text-align: right;\n",
       "    }\n",
       "</style>\n",
       "<table border=\"1\" class=\"dataframe\">\n",
       "  <thead>\n",
       "    <tr style=\"text-align: right;\">\n",
       "      <th>Diet</th>\n",
       "      <th>0</th>\n",
       "      <th>1</th>\n",
       "      <th>2</th>\n",
       "      <th>3</th>\n",
       "      <th>4</th>\n",
       "    </tr>\n",
       "    <tr>\n",
       "      <th>Status</th>\n",
       "      <th></th>\n",
       "      <th></th>\n",
       "      <th></th>\n",
       "      <th></th>\n",
       "      <th></th>\n",
       "    </tr>\n",
       "  </thead>\n",
       "  <tbody>\n",
       "    <tr>\n",
       "      <th>0</th>\n",
       "      <td>0.338681</td>\n",
       "      <td>0.336007</td>\n",
       "      <td>0.286096</td>\n",
       "      <td>0.024955</td>\n",
       "      <td>0.014260</td>\n",
       "    </tr>\n",
       "    <tr>\n",
       "      <th>1</th>\n",
       "      <td>0.244131</td>\n",
       "      <td>0.255869</td>\n",
       "      <td>0.469484</td>\n",
       "      <td>0.016432</td>\n",
       "      <td>0.014085</td>\n",
       "    </tr>\n",
       "  </tbody>\n",
       "</table>\n",
       "</div>"
      ],
      "text/plain": [
       "Diet           0         1         2         3         4\n",
       "Status                                                  \n",
       "0       0.338681  0.336007  0.286096  0.024955  0.014260\n",
       "1       0.244131  0.255869  0.469484  0.016432  0.014085"
      ]
     },
     "execution_count": 18,
     "metadata": {},
     "output_type": "execute_result"
    }
   ],
   "source": [
    "ct_status_diet = pd.crosstab(animals_df['Status'], animals_df['Diet'], normalize='index')\n",
    "ct_status_diet"
   ]
  },
  {
   "cell_type": "code",
   "execution_count": 120,
   "metadata": {},
   "outputs": [
    {
     "data": {
      "text/plain": [
       "Text(0, 0.5, 'Diet')"
      ]
     },
     "execution_count": 120,
     "metadata": {},
     "output_type": "execute_result"
    },
    {
     "data": {
      "image/png": "[encoded data removed]",
      "text/plain": [
       "<Figure size 720x360 with 1 Axes>"
      ]
     },
     "metadata": {
      "needs_background": "light"
     },
     "output_type": "display_data"
    }
   ],
   "source": [
    "ct_status_diet.plot(kind ='bar', figsize=(10,5), color=['#5499C7', '#C0392B', '#27AE60', '#F39C12', '#707B7C'])\n",
    "plt.title('Status vs. Diet', fontsize=10)\n",
    "plt.xlabel('Status')\n",
    "plt.ylabel('Diet')"
   ]
  },
  {
   "cell_type": "markdown",
   "metadata": {},
   "source": [
    "#### The correlation between the Status (```0 - safe, 1 - endangered```) and Mating Behavior (```0 - monogamy, 1 - polygamy```) columns:\n",
    "###### The strongest correlation is between the polygamy and endangered animals. We didnt found a reason for this."
   ]
  },
  {
   "cell_type": "code",
   "execution_count": 20,
   "metadata": {},
   "outputs": [
    {
     "data": {
      "text/html": [
       "<div>\n",
       "<style scoped>\n",
       "    .dataframe tbody tr th:only-of-type {\n",
       "        vertical-align: middle;\n",
       "    }\n",
       "\n",
       "    .dataframe tbody tr th {\n",
       "        vertical-align: top;\n",
       "    }\n",
       "\n",
       "    .dataframe thead th {\n",
       "        text-align: right;\n",
       "    }\n",
       "</style>\n",
       "<table border=\"1\" class=\"dataframe\">\n",
       "  <thead>\n",
       "    <tr style=\"text-align: right;\">\n",
       "      <th>Mating Behavior</th>\n",
       "      <th>0</th>\n",
       "      <th>1</th>\n",
       "    </tr>\n",
       "    <tr>\n",
       "      <th>Status</th>\n",
       "      <th></th>\n",
       "      <th></th>\n",
       "    </tr>\n",
       "  </thead>\n",
       "  <tbody>\n",
       "    <tr>\n",
       "      <th>0</th>\n",
       "      <td>0.405526</td>\n",
       "      <td>0.594474</td>\n",
       "    </tr>\n",
       "    <tr>\n",
       "      <th>1</th>\n",
       "      <td>0.295775</td>\n",
       "      <td>0.704225</td>\n",
       "    </tr>\n",
       "  </tbody>\n",
       "</table>\n",
       "</div>"
      ],
      "text/plain": [
       "Mating Behavior         0         1\n",
       "Status                             \n",
       "0                0.405526  0.594474\n",
       "1                0.295775  0.704225"
      ]
     },
     "execution_count": 20,
     "metadata": {},
     "output_type": "execute_result"
    }
   ],
   "source": [
    "pd.crosstab(animals_df['Status'], animals_df['Mating Behavior'], normalize='index')"
   ]
  },
  {
   "cell_type": "markdown",
   "metadata": {},
   "source": [
    "## Outliers\n",
    "\n",
    "##### We tried to handle with the \"Length\" and \"weight\" outliers, but after the process we figured out that it doesn't make any change, and it caused to lose a lot of data."
   ]
  },
  {
   "cell_type": "code",
   "execution_count": 22,
   "metadata": {},
   "outputs": [],
   "source": [
    "# We found 2 animals with mistakes in our source. We had to fix it manually.\n",
    "animals_df.iloc[8, 7] = 135\n",
    "animals_df.iloc[638, 7] = 70"
   ]
  },
  {
   "cell_type": "code",
   "execution_count": 23,
   "metadata": {},
   "outputs": [
    {
     "data": {
      "text/plain": [
       "<matplotlib.axes._subplots.AxesSubplot at 0x2751af8ccc8>"
      ]
     },
     "execution_count": 23,
     "metadata": {},
     "output_type": "execute_result"
    },
    {
     "data": {
      "image/png": "[encoded data removed]",
      "text/plain": [
       "<Figure size 1296x288 with 1 Axes>"
      ]
     },
     "metadata": {
      "needs_background": "light"
     },
     "output_type": "display_data"
    }
   ],
   "source": [
    "outliers_length = plt.figure(figsize=(18, 4))\n",
    "sns.boxplot(animals_df['Length (cm)'], whis=6, color=\"#CD6155\")"
   ]
  },
  {
   "cell_type": "code",
   "execution_count": 24,
   "metadata": {},
   "outputs": [
    {
     "data": {
      "text/plain": [
       "12"
      ]
     },
     "execution_count": 24,
     "metadata": {},
     "output_type": "execute_result"
    }
   ],
   "source": [
    "Q1 = np.percentile(animals_df['Length (cm)'], 25)\n",
    "Q3 = np.percentile(animals_df['Length (cm)'], 75)\n",
    "IQR = Q3 - Q1\n",
    "outliers_length = animals_df[(animals_df['Length (cm)'] < Q1 - 1.5 * IQR) |\n",
    "                               (animals_df['Length (cm)'] > Q3 + 10 * IQR)].index\n",
    "len(outliers_length)"
   ]
  },
  {
   "cell_type": "code",
   "execution_count": 25,
   "metadata": {},
   "outputs": [],
   "source": [
    "outliers_df = animals_df.copy()\n",
    "outliers_df.drop(labels=outliers_length, inplace=True)"
   ]
  },
  {
   "cell_type": "code",
   "execution_count": 26,
   "metadata": {},
   "outputs": [
    {
     "data": {
      "text/plain": [
       "<matplotlib.axes._subplots.AxesSubplot at 0x2751b02afc8>"
      ]
     },
     "execution_count": 26,
     "metadata": {},
     "output_type": "execute_result"
    },
    {
     "data": {
      "image/png": "[encoded data removed]",
      "text/plain": [
       "<Figure size 1296x288 with 1 Axes>"
      ]
     },
     "metadata": {
      "needs_background": "light"
     },
     "output_type": "display_data"
    }
   ],
   "source": [
    "outliers_weight = plt.figure(figsize=(18, 4))\n",
    "sns.boxplot(outliers_df['Weight (kg)'], whis=10, color=\"#CD6155\")"
   ]
  },
  {
   "cell_type": "code",
   "execution_count": 27,
   "metadata": {},
   "outputs": [
    {
     "data": {
      "text/plain": [
       "10"
      ]
     },
     "execution_count": 27,
     "metadata": {},
     "output_type": "execute_result"
    }
   ],
   "source": [
    "Q1 = np.percentile(outliers_df['Weight (kg)'], 25)\n",
    "Q3 = np.percentile(outliers_df['Weight (kg)'], 75)\n",
    "IQR = Q3 - Q1\n",
    "outliers_weight = outliers_df[(outliers_df['Weight (kg)'] < Q1 - 1.5 * IQR) |\n",
    "                               (outliers_df['Weight (kg)'] > Q3 + 256 * IQR)].index\n",
    "len(outliers_weight)"
   ]
  },
  {
   "cell_type": "code",
   "execution_count": 28,
   "metadata": {},
   "outputs": [],
   "source": [
    "outliers_df.drop(labels=outliers_weight, inplace=True)"
   ]
  },
  {
   "cell_type": "code",
   "execution_count": 29,
   "metadata": {},
   "outputs": [
    {
     "data": {
      "text/plain": [
       "(1526, 28)"
      ]
     },
     "execution_count": 29,
     "metadata": {},
     "output_type": "execute_result"
    }
   ],
   "source": [
    "outliers_df.shape"
   ]
  },
  {
   "cell_type": "markdown",
   "metadata": {},
   "source": [
    "#### We didn't found a great correlation between those columns:"
   ]
  },
  {
   "cell_type": "code",
   "execution_count": 30,
   "metadata": {},
   "outputs": [
    {
     "data": {
      "text/plain": [
       "<seaborn.axisgrid.PairGrid at 0x2751b09cd48>"
      ]
     },
     "execution_count": 30,
     "metadata": {},
     "output_type": "execute_result"
    },
    {
     "data": {
      "image/png": "[encoded data removed]",
      "text/plain": [
       "<Figure size 360x360 with 6 Axes>"
      ]
     },
     "metadata": {
      "needs_background": "light"
     },
     "output_type": "display_data"
    }
   ],
   "source": [
    "sns.pairplot(outliers_df[['Length (cm)', 'Weight (kg)']])"
   ]
  },
  {
   "cell_type": "markdown",
   "metadata": {},
   "source": [
    "#### We tried to find the correlation between the rest of our continuos variables:"
   ]
  },
  {
   "cell_type": "code",
   "execution_count": 111,
   "metadata": {},
   "outputs": [
    {
     "data": {
      "text/plain": [
       "<seaborn.axisgrid.PairGrid at 0x275221b97c8>"
      ]
     },
     "execution_count": 111,
     "metadata": {},
     "output_type": "execute_result"
    },
    {
     "data": {
      "image/png": "[encoded data removed]",
      "text/plain": [
       "<Figure size 720x720 with 20 Axes>"
      ]
     },
     "metadata": {
      "needs_background": "light"
     },
     "output_type": "display_data"
    }
   ],
   "source": [
    "sns.pairplot(animals_df[['Life Span (years)', 'Baby Carrying', 'Independent Age (days)', 'Incubation Period (days)']])"
   ]
  },
  {
   "cell_type": "markdown",
   "metadata": {},
   "source": [
    "# Bar Plots"
   ]
  },
  {
   "cell_type": "markdown",
   "metadata": {},
   "source": [
    "## Focus on specific Orders"
   ]
  },
  {
   "cell_type": "markdown",
   "metadata": {},
   "source": [
    "#### We checked the Trend in relation to Orders. We extracted the most badly-affected populations into new dataframe."
   ]
  },
  {
   "cell_type": "code",
   "execution_count": 35,
   "metadata": {},
   "outputs": [
    {
     "data": {
      "text/plain": [
       "<matplotlib.legend.Legend at 0x2751d1c5948>"
      ]
     },
     "execution_count": 35,
     "metadata": {},
     "output_type": "execute_result"
    },
    {
     "data": {
      "image/png": "[encoded data removed]",
      "text/plain": [
       "<Figure size 1080x360 with 1 Axes>"
      ]
     },
     "metadata": {
      "needs_background": "light"
     },
     "output_type": "display_data"
    }
   ],
   "source": [
    "g = sns.catplot(\n",
    "    x='Order', \n",
    "    data = animals_df,\n",
    "    kind='count', \n",
    "    hue='Trend',\n",
    "    palette=['#E74C3C', '#7FB3D5', '#27AE60'],\n",
    "    height=5, \n",
    "    aspect=3,\n",
    "    legend=False,\n",
    "    ).set_axis_labels('Order', '# of animals')\n",
    "g.ax.legend(labels=['Deacrisinag','Stable', 'Increacing'])\n",
    "\n",
    "# 5* - ARTIODACTYLA (deers, pigs, whales), 8* - CARNIVORA (wolves, cats, foxes), 10 - CHARADRIIFORMES (kind of birds),\n",
    "# 21 - DIPROTODONTIA (Kangaroo, mouses, Koala), 24 - GALLIFORMES (chickens, peafowl),\n",
    "# 26 - GRUIFORMES (crane birds), 28 - LAGOMORPHA (rabbits), 45* - PRIMATES (monkeys, Lemors),\n",
    "# 48 - PSITTACIFORMES (parrot), 49 - RODENTIA (Squirrel, Humsters), 53 - SQUAMATA (snakes and Iguana),\n",
    "# 57 - TESTUDINES (turtles)"
   ]
  },
  {
   "cell_type": "markdown",
   "metadata": {},
   "source": [
    "##### We created sub data frame which includes the most deacrising animals according their Order."
   ]
  },
  {
   "cell_type": "code",
   "execution_count": 36,
   "metadata": {},
   "outputs": [
    {
     "data": {
      "text/html": [
       "<div>\n",
       "<style scoped>\n",
       "    .dataframe tbody tr th:only-of-type {\n",
       "        vertical-align: middle;\n",
       "    }\n",
       "\n",
       "    .dataframe tbody tr th {\n",
       "        vertical-align: top;\n",
       "    }\n",
       "\n",
       "    .dataframe thead th {\n",
       "        text-align: right;\n",
       "    }\n",
       "</style>\n",
       "<table border=\"1\" class=\"dataframe\">\n",
       "  <thead>\n",
       "    <tr style=\"text-align: right;\">\n",
       "      <th></th>\n",
       "      <th>Class</th>\n",
       "      <th>Order</th>\n",
       "      <th>Family</th>\n",
       "      <th>Trend</th>\n",
       "      <th>Status</th>\n",
       "      <th>Life Span (years)</th>\n",
       "      <th>Length (cm)</th>\n",
       "      <th>Weight (kg)</th>\n",
       "      <th>Is Social</th>\n",
       "      <th>Is Nocturnal</th>\n",
       "      <th>...</th>\n",
       "      <th>Europe</th>\n",
       "      <th>Oceania</th>\n",
       "      <th>South America</th>\n",
       "      <th>Central America</th>\n",
       "      <th>North America</th>\n",
       "      <th>Cold</th>\n",
       "      <th>Dry/Desert</th>\n",
       "      <th>Polar/Tundra</th>\n",
       "      <th>Temperate</th>\n",
       "      <th>Tropical</th>\n",
       "    </tr>\n",
       "    <tr>\n",
       "      <th>Scientific Name</th>\n",
       "      <th></th>\n",
       "      <th></th>\n",
       "      <th></th>\n",
       "      <th></th>\n",
       "      <th></th>\n",
       "      <th></th>\n",
       "      <th></th>\n",
       "      <th></th>\n",
       "      <th></th>\n",
       "      <th></th>\n",
       "      <th></th>\n",
       "      <th></th>\n",
       "      <th></th>\n",
       "      <th></th>\n",
       "      <th></th>\n",
       "      <th></th>\n",
       "      <th></th>\n",
       "      <th></th>\n",
       "      <th></th>\n",
       "      <th></th>\n",
       "      <th></th>\n",
       "    </tr>\n",
       "  </thead>\n",
       "  <tbody>\n",
       "    <tr>\n",
       "      <th>Canis lupus arctos</th>\n",
       "      <td>1</td>\n",
       "      <td>8</td>\n",
       "      <td>canidae</td>\n",
       "      <td>1</td>\n",
       "      <td>0</td>\n",
       "      <td>12.000000</td>\n",
       "      <td>50.00</td>\n",
       "      <td>51.0000</td>\n",
       "      <td>1</td>\n",
       "      <td>0</td>\n",
       "      <td>...</td>\n",
       "      <td>0</td>\n",
       "      <td>0</td>\n",
       "      <td>0</td>\n",
       "      <td>0</td>\n",
       "      <td>0</td>\n",
       "      <td>0</td>\n",
       "      <td>0</td>\n",
       "      <td>1</td>\n",
       "      <td>0</td>\n",
       "      <td>0</td>\n",
       "    </tr>\n",
       "    <tr>\n",
       "      <th>Vulpes lagopus</th>\n",
       "      <td>1</td>\n",
       "      <td>8</td>\n",
       "      <td>canidae</td>\n",
       "      <td>1</td>\n",
       "      <td>0</td>\n",
       "      <td>8.500000</td>\n",
       "      <td>53.50</td>\n",
       "      <td>5.0000</td>\n",
       "      <td>0</td>\n",
       "      <td>0</td>\n",
       "      <td>...</td>\n",
       "      <td>1</td>\n",
       "      <td>0</td>\n",
       "      <td>0</td>\n",
       "      <td>0</td>\n",
       "      <td>0</td>\n",
       "      <td>0</td>\n",
       "      <td>0</td>\n",
       "      <td>1</td>\n",
       "      <td>0</td>\n",
       "      <td>0</td>\n",
       "    </tr>\n",
       "    <tr>\n",
       "      <th>Tamiasciurus hudsonicus</th>\n",
       "      <td>1</td>\n",
       "      <td>49</td>\n",
       "      <td>sciuridae</td>\n",
       "      <td>1</td>\n",
       "      <td>0</td>\n",
       "      <td>7.500000</td>\n",
       "      <td>32.50</td>\n",
       "      <td>0.2395</td>\n",
       "      <td>0</td>\n",
       "      <td>0</td>\n",
       "      <td>...</td>\n",
       "      <td>0</td>\n",
       "      <td>0</td>\n",
       "      <td>0</td>\n",
       "      <td>0</td>\n",
       "      <td>0</td>\n",
       "      <td>1</td>\n",
       "      <td>1</td>\n",
       "      <td>1</td>\n",
       "      <td>1</td>\n",
       "      <td>0</td>\n",
       "    </tr>\n",
       "    <tr>\n",
       "      <th>Canis lupus</th>\n",
       "      <td>1</td>\n",
       "      <td>8</td>\n",
       "      <td>canidae</td>\n",
       "      <td>1</td>\n",
       "      <td>0</td>\n",
       "      <td>15.000000</td>\n",
       "      <td>132.50</td>\n",
       "      <td>38.0000</td>\n",
       "      <td>1</td>\n",
       "      <td>1</td>\n",
       "      <td>...</td>\n",
       "      <td>1</td>\n",
       "      <td>0</td>\n",
       "      <td>0</td>\n",
       "      <td>0</td>\n",
       "      <td>0</td>\n",
       "      <td>1</td>\n",
       "      <td>1</td>\n",
       "      <td>1</td>\n",
       "      <td>1</td>\n",
       "      <td>0</td>\n",
       "    </tr>\n",
       "    <tr>\n",
       "      <th>Mustela erminea</th>\n",
       "      <td>1</td>\n",
       "      <td>8</td>\n",
       "      <td>mustelidae</td>\n",
       "      <td>1</td>\n",
       "      <td>0</td>\n",
       "      <td>6.500000</td>\n",
       "      <td>24.75</td>\n",
       "      <td>0.2190</td>\n",
       "      <td>0</td>\n",
       "      <td>1</td>\n",
       "      <td>...</td>\n",
       "      <td>1</td>\n",
       "      <td>1</td>\n",
       "      <td>0</td>\n",
       "      <td>0</td>\n",
       "      <td>0</td>\n",
       "      <td>1</td>\n",
       "      <td>0</td>\n",
       "      <td>1</td>\n",
       "      <td>1</td>\n",
       "      <td>0</td>\n",
       "    </tr>\n",
       "    <tr>\n",
       "      <th>...</th>\n",
       "      <td>...</td>\n",
       "      <td>...</td>\n",
       "      <td>...</td>\n",
       "      <td>...</td>\n",
       "      <td>...</td>\n",
       "      <td>...</td>\n",
       "      <td>...</td>\n",
       "      <td>...</td>\n",
       "      <td>...</td>\n",
       "      <td>...</td>\n",
       "      <td>...</td>\n",
       "      <td>...</td>\n",
       "      <td>...</td>\n",
       "      <td>...</td>\n",
       "      <td>...</td>\n",
       "      <td>...</td>\n",
       "      <td>...</td>\n",
       "      <td>...</td>\n",
       "      <td>...</td>\n",
       "      <td>...</td>\n",
       "      <td>...</td>\n",
       "    </tr>\n",
       "    <tr>\n",
       "      <th>Gallinago media</th>\n",
       "      <td>0</td>\n",
       "      <td>10</td>\n",
       "      <td>scolopacidae</td>\n",
       "      <td>0</td>\n",
       "      <td>0</td>\n",
       "      <td>16.891892</td>\n",
       "      <td>28.00</td>\n",
       "      <td>0.2000</td>\n",
       "      <td>1</td>\n",
       "      <td>1</td>\n",
       "      <td>...</td>\n",
       "      <td>1</td>\n",
       "      <td>0</td>\n",
       "      <td>0</td>\n",
       "      <td>0</td>\n",
       "      <td>0</td>\n",
       "      <td>0</td>\n",
       "      <td>0</td>\n",
       "      <td>1</td>\n",
       "      <td>1</td>\n",
       "      <td>1</td>\n",
       "    </tr>\n",
       "    <tr>\n",
       "      <th>Haematopus palliatus</th>\n",
       "      <td>0</td>\n",
       "      <td>10</td>\n",
       "      <td>haematopodidae</td>\n",
       "      <td>1</td>\n",
       "      <td>0</td>\n",
       "      <td>13.500000</td>\n",
       "      <td>47.00</td>\n",
       "      <td>0.5500</td>\n",
       "      <td>1</td>\n",
       "      <td>0</td>\n",
       "      <td>...</td>\n",
       "      <td>0</td>\n",
       "      <td>0</td>\n",
       "      <td>0</td>\n",
       "      <td>0</td>\n",
       "      <td>0</td>\n",
       "      <td>0</td>\n",
       "      <td>0</td>\n",
       "      <td>0</td>\n",
       "      <td>1</td>\n",
       "      <td>1</td>\n",
       "    </tr>\n",
       "    <tr>\n",
       "      <th>Arenaria interpres</th>\n",
       "      <td>0</td>\n",
       "      <td>10</td>\n",
       "      <td>scolopacidae</td>\n",
       "      <td>0</td>\n",
       "      <td>0</td>\n",
       "      <td>14.000000</td>\n",
       "      <td>23.00</td>\n",
       "      <td>0.1175</td>\n",
       "      <td>1</td>\n",
       "      <td>0</td>\n",
       "      <td>...</td>\n",
       "      <td>1</td>\n",
       "      <td>1</td>\n",
       "      <td>0</td>\n",
       "      <td>0</td>\n",
       "      <td>0</td>\n",
       "      <td>0</td>\n",
       "      <td>0</td>\n",
       "      <td>1</td>\n",
       "      <td>1</td>\n",
       "      <td>1</td>\n",
       "    </tr>\n",
       "    <tr>\n",
       "      <th>Actitis macularius</th>\n",
       "      <td>0</td>\n",
       "      <td>10</td>\n",
       "      <td>scolopacidae</td>\n",
       "      <td>0</td>\n",
       "      <td>0</td>\n",
       "      <td>12.000000</td>\n",
       "      <td>19.00</td>\n",
       "      <td>0.0420</td>\n",
       "      <td>0</td>\n",
       "      <td>0</td>\n",
       "      <td>...</td>\n",
       "      <td>0</td>\n",
       "      <td>0</td>\n",
       "      <td>0</td>\n",
       "      <td>0</td>\n",
       "      <td>0</td>\n",
       "      <td>0</td>\n",
       "      <td>0</td>\n",
       "      <td>1</td>\n",
       "      <td>1</td>\n",
       "      <td>1</td>\n",
       "    </tr>\n",
       "    <tr>\n",
       "      <th>Scolopax minor</th>\n",
       "      <td>0</td>\n",
       "      <td>10</td>\n",
       "      <td>scolopacidae</td>\n",
       "      <td>0</td>\n",
       "      <td>0</td>\n",
       "      <td>8.000000</td>\n",
       "      <td>27.50</td>\n",
       "      <td>0.1850</td>\n",
       "      <td>0</td>\n",
       "      <td>0</td>\n",
       "      <td>...</td>\n",
       "      <td>0</td>\n",
       "      <td>0</td>\n",
       "      <td>0</td>\n",
       "      <td>0</td>\n",
       "      <td>0</td>\n",
       "      <td>0</td>\n",
       "      <td>0</td>\n",
       "      <td>0</td>\n",
       "      <td>1</td>\n",
       "      <td>0</td>\n",
       "    </tr>\n",
       "  </tbody>\n",
       "</table>\n",
       "<p>1034 rows × 28 columns</p>\n",
       "</div>"
      ],
      "text/plain": [
       "                         Class  Order          Family  Trend  Status  \\\n",
       "Scientific Name                                                        \n",
       "Canis lupus arctos           1      8         canidae      1       0   \n",
       "Vulpes lagopus               1      8         canidae      1       0   \n",
       "Tamiasciurus hudsonicus      1     49       sciuridae      1       0   \n",
       "Canis lupus                  1      8         canidae      1       0   \n",
       "Mustela erminea              1      8      mustelidae      1       0   \n",
       "...                        ...    ...             ...    ...     ...   \n",
       "Gallinago media              0     10    scolopacidae      0       0   \n",
       "Haematopus palliatus         0     10  haematopodidae      1       0   \n",
       "Arenaria interpres           0     10    scolopacidae      0       0   \n",
       "Actitis macularius           0     10    scolopacidae      0       0   \n",
       "Scolopax minor               0     10    scolopacidae      0       0   \n",
       "\n",
       "                         Life Span (years)  Length (cm)  Weight (kg)  \\\n",
       "Scientific Name                                                        \n",
       "Canis lupus arctos               12.000000        50.00      51.0000   \n",
       "Vulpes lagopus                    8.500000        53.50       5.0000   \n",
       "Tamiasciurus hudsonicus           7.500000        32.50       0.2395   \n",
       "Canis lupus                      15.000000       132.50      38.0000   \n",
       "Mustela erminea                   6.500000        24.75       0.2190   \n",
       "...                                    ...          ...          ...   \n",
       "Gallinago media                  16.891892        28.00       0.2000   \n",
       "Haematopus palliatus             13.500000        47.00       0.5500   \n",
       "Arenaria interpres               14.000000        23.00       0.1175   \n",
       "Actitis macularius               12.000000        19.00       0.0420   \n",
       "Scolopax minor                    8.000000        27.50       0.1850   \n",
       "\n",
       "                         Is Social  Is Nocturnal  ...  Europe  Oceania  \\\n",
       "Scientific Name                                   ...                    \n",
       "Canis lupus arctos               1             0  ...       0        0   \n",
       "Vulpes lagopus                   0             0  ...       1        0   \n",
       "Tamiasciurus hudsonicus          0             0  ...       0        0   \n",
       "Canis lupus                      1             1  ...       1        0   \n",
       "Mustela erminea                  0             1  ...       1        1   \n",
       "...                            ...           ...  ...     ...      ...   \n",
       "Gallinago media                  1             1  ...       1        0   \n",
       "Haematopus palliatus             1             0  ...       0        0   \n",
       "Arenaria interpres               1             0  ...       1        1   \n",
       "Actitis macularius               0             0  ...       0        0   \n",
       "Scolopax minor                   0             0  ...       0        0   \n",
       "\n",
       "                         South America  Central America  North America  Cold  \\\n",
       "Scientific Name                                                                \n",
       "Canis lupus arctos                   0                0              0     0   \n",
       "Vulpes lagopus                       0                0              0     0   \n",
       "Tamiasciurus hudsonicus              0                0              0     1   \n",
       "Canis lupus                          0                0              0     1   \n",
       "Mustela erminea                      0                0              0     1   \n",
       "...                                ...              ...            ...   ...   \n",
       "Gallinago media                      0                0              0     0   \n",
       "Haematopus palliatus                 0                0              0     0   \n",
       "Arenaria interpres                   0                0              0     0   \n",
       "Actitis macularius                   0                0              0     0   \n",
       "Scolopax minor                       0                0              0     0   \n",
       "\n",
       "                         Dry/Desert  Polar/Tundra  Temperate  Tropical  \n",
       "Scientific Name                                                         \n",
       "Canis lupus arctos                0             1          0         0  \n",
       "Vulpes lagopus                    0             1          0         0  \n",
       "Tamiasciurus hudsonicus           1             1          1         0  \n",
       "Canis lupus                       1             1          1         0  \n",
       "Mustela erminea                   0             1          1         0  \n",
       "...                             ...           ...        ...       ...  \n",
       "Gallinago media                   0             1          1         1  \n",
       "Haematopus palliatus              0             0          1         1  \n",
       "Arenaria interpres                0             1          1         1  \n",
       "Actitis macularius                0             1          1         1  \n",
       "Scolopax minor                    0             0          1         0  \n",
       "\n",
       "[1034 rows x 28 columns]"
      ]
     },
     "execution_count": 36,
     "metadata": {},
     "output_type": "execute_result"
    }
   ],
   "source": [
    "Trend_Orders_df = animals_df[(animals_df['Order'] == 5) | (animals_df['Order'] == 8) | (animals_df['Order'] == 10) |\n",
    "                            (animals_df['Order'] == 21) | (animals_df['Order'] == 24) | (animals_df['Order'] == 26) |\n",
    "                            (animals_df['Order'] == 28) | (animals_df['Order'] == 45) | (animals_df['Order'] == 48) |\n",
    "                            (animals_df['Order'] == 49) | (animals_df['Order'] == 53) | (animals_df['Order'] == 57)]\n",
    "Trend_Orders_df"
   ]
  },
  {
   "cell_type": "code",
   "execution_count": 37,
   "metadata": {},
   "outputs": [
    {
     "data": {
      "text/plain": [
       "<matplotlib.legend.Legend at 0x2751badef48>"
      ]
     },
     "execution_count": 37,
     "metadata": {},
     "output_type": "execute_result"
    },
    {
     "data": {
      "image/png": "[encoded data removed]",
      "text/plain": [
       "<Figure size 1080x360 with 1 Axes>"
      ]
     },
     "metadata": {
      "needs_background": "light"
     },
     "output_type": "display_data"
    }
   ],
   "source": [
    "g = sns.catplot(\n",
    "    x='Order', \n",
    "    data = Trend_Orders_df,\n",
    "    kind='count', \n",
    "    hue='Trend',\n",
    "    palette=['#E74C3C', '#7FB3D5', '#27AE60'],\n",
    "    height=5, \n",
    "    aspect=3,\n",
    "    legend=False,\n",
    "    ).set_axis_labels('Order', '# of animals')\n",
    "g.ax.legend(labels=['Deacrisinag','Stable', 'Increacing'])"
   ]
  },
  {
   "cell_type": "markdown",
   "metadata": {},
   "source": [
    "#### We checked the Status in relation to Orders. We extracted the most badly-affected populations into new dataframe."
   ]
  },
  {
   "cell_type": "code",
   "execution_count": 44,
   "metadata": {},
   "outputs": [
    {
     "data": {
      "text/plain": [
       "<matplotlib.legend.Legend at 0x2751d237dc8>"
      ]
     },
     "execution_count": 44,
     "metadata": {},
     "output_type": "execute_result"
    },
    {
     "data": {
      "image/png": "[encoded data removed]",
      "text/plain": [
       "<Figure size 1080x360 with 1 Axes>"
      ]
     },
     "metadata": {
      "needs_background": "light"
     },
     "output_type": "display_data"
    }
   ],
   "source": [
    "g = sns.catplot(\n",
    "    x='Order', \n",
    "    data = animals_df,\n",
    "    kind='count', \n",
    "    hue='Status',\n",
    "    palette=['#27AE60', '#E74C3C'],\n",
    "    height=5, \n",
    "    aspect=3,\n",
    "    legend=False,\n",
    "    ).set_axis_labels('Order', '# of animals')\n",
    "g.ax.legend(labels=['Safe','Endangered'])"
   ]
  },
  {
   "cell_type": "markdown",
   "metadata": {},
   "source": [
    "##### We created sub data frame which includes the most Endangered animals according their Order."
   ]
  },
  {
   "cell_type": "code",
   "execution_count": 45,
   "metadata": {},
   "outputs": [
    {
     "data": {
      "text/html": [
       "<div>\n",
       "<style scoped>\n",
       "    .dataframe tbody tr th:only-of-type {\n",
       "        vertical-align: middle;\n",
       "    }\n",
       "\n",
       "    .dataframe tbody tr th {\n",
       "        vertical-align: top;\n",
       "    }\n",
       "\n",
       "    .dataframe thead th {\n",
       "        text-align: right;\n",
       "    }\n",
       "</style>\n",
       "<table border=\"1\" class=\"dataframe\">\n",
       "  <thead>\n",
       "    <tr style=\"text-align: right;\">\n",
       "      <th></th>\n",
       "      <th>Class</th>\n",
       "      <th>Order</th>\n",
       "      <th>Family</th>\n",
       "      <th>Trend</th>\n",
       "      <th>Status</th>\n",
       "      <th>Life Span (years)</th>\n",
       "      <th>Length (cm)</th>\n",
       "      <th>Weight (kg)</th>\n",
       "      <th>Is Social</th>\n",
       "      <th>Is Nocturnal</th>\n",
       "      <th>...</th>\n",
       "      <th>Europe</th>\n",
       "      <th>Oceania</th>\n",
       "      <th>South America</th>\n",
       "      <th>Central America</th>\n",
       "      <th>North America</th>\n",
       "      <th>Cold</th>\n",
       "      <th>Dry/Desert</th>\n",
       "      <th>Polar/Tundra</th>\n",
       "      <th>Temperate</th>\n",
       "      <th>Tropical</th>\n",
       "    </tr>\n",
       "    <tr>\n",
       "      <th>Scientific Name</th>\n",
       "      <th></th>\n",
       "      <th></th>\n",
       "      <th></th>\n",
       "      <th></th>\n",
       "      <th></th>\n",
       "      <th></th>\n",
       "      <th></th>\n",
       "      <th></th>\n",
       "      <th></th>\n",
       "      <th></th>\n",
       "      <th></th>\n",
       "      <th></th>\n",
       "      <th></th>\n",
       "      <th></th>\n",
       "      <th></th>\n",
       "      <th></th>\n",
       "      <th></th>\n",
       "      <th></th>\n",
       "      <th></th>\n",
       "      <th></th>\n",
       "      <th></th>\n",
       "    </tr>\n",
       "  </thead>\n",
       "  <tbody>\n",
       "    <tr>\n",
       "      <th>Canis lupus arctos</th>\n",
       "      <td>1</td>\n",
       "      <td>8</td>\n",
       "      <td>canidae</td>\n",
       "      <td>1</td>\n",
       "      <td>0</td>\n",
       "      <td>12.0</td>\n",
       "      <td>50.000000</td>\n",
       "      <td>51.0000</td>\n",
       "      <td>1</td>\n",
       "      <td>0</td>\n",
       "      <td>...</td>\n",
       "      <td>0</td>\n",
       "      <td>0</td>\n",
       "      <td>0</td>\n",
       "      <td>0</td>\n",
       "      <td>0</td>\n",
       "      <td>0</td>\n",
       "      <td>0</td>\n",
       "      <td>1</td>\n",
       "      <td>0</td>\n",
       "      <td>0</td>\n",
       "    </tr>\n",
       "    <tr>\n",
       "      <th>Vulpes lagopus</th>\n",
       "      <td>1</td>\n",
       "      <td>8</td>\n",
       "      <td>canidae</td>\n",
       "      <td>1</td>\n",
       "      <td>0</td>\n",
       "      <td>8.5</td>\n",
       "      <td>53.500000</td>\n",
       "      <td>5.0000</td>\n",
       "      <td>0</td>\n",
       "      <td>0</td>\n",
       "      <td>...</td>\n",
       "      <td>1</td>\n",
       "      <td>0</td>\n",
       "      <td>0</td>\n",
       "      <td>0</td>\n",
       "      <td>0</td>\n",
       "      <td>0</td>\n",
       "      <td>0</td>\n",
       "      <td>1</td>\n",
       "      <td>0</td>\n",
       "      <td>0</td>\n",
       "    </tr>\n",
       "    <tr>\n",
       "      <th>Tamiasciurus hudsonicus</th>\n",
       "      <td>1</td>\n",
       "      <td>49</td>\n",
       "      <td>sciuridae</td>\n",
       "      <td>1</td>\n",
       "      <td>0</td>\n",
       "      <td>7.5</td>\n",
       "      <td>32.500000</td>\n",
       "      <td>0.2395</td>\n",
       "      <td>0</td>\n",
       "      <td>0</td>\n",
       "      <td>...</td>\n",
       "      <td>0</td>\n",
       "      <td>0</td>\n",
       "      <td>0</td>\n",
       "      <td>0</td>\n",
       "      <td>0</td>\n",
       "      <td>1</td>\n",
       "      <td>1</td>\n",
       "      <td>1</td>\n",
       "      <td>1</td>\n",
       "      <td>0</td>\n",
       "    </tr>\n",
       "    <tr>\n",
       "      <th>Canis lupus</th>\n",
       "      <td>1</td>\n",
       "      <td>8</td>\n",
       "      <td>canidae</td>\n",
       "      <td>1</td>\n",
       "      <td>0</td>\n",
       "      <td>15.0</td>\n",
       "      <td>132.500000</td>\n",
       "      <td>38.0000</td>\n",
       "      <td>1</td>\n",
       "      <td>1</td>\n",
       "      <td>...</td>\n",
       "      <td>1</td>\n",
       "      <td>0</td>\n",
       "      <td>0</td>\n",
       "      <td>0</td>\n",
       "      <td>0</td>\n",
       "      <td>1</td>\n",
       "      <td>1</td>\n",
       "      <td>1</td>\n",
       "      <td>1</td>\n",
       "      <td>0</td>\n",
       "    </tr>\n",
       "    <tr>\n",
       "      <th>Mustela erminea</th>\n",
       "      <td>1</td>\n",
       "      <td>8</td>\n",
       "      <td>mustelidae</td>\n",
       "      <td>1</td>\n",
       "      <td>0</td>\n",
       "      <td>6.5</td>\n",
       "      <td>24.750000</td>\n",
       "      <td>0.2190</td>\n",
       "      <td>0</td>\n",
       "      <td>1</td>\n",
       "      <td>...</td>\n",
       "      <td>1</td>\n",
       "      <td>1</td>\n",
       "      <td>0</td>\n",
       "      <td>0</td>\n",
       "      <td>0</td>\n",
       "      <td>1</td>\n",
       "      <td>0</td>\n",
       "      <td>1</td>\n",
       "      <td>1</td>\n",
       "      <td>0</td>\n",
       "    </tr>\n",
       "    <tr>\n",
       "      <th>...</th>\n",
       "      <td>...</td>\n",
       "      <td>...</td>\n",
       "      <td>...</td>\n",
       "      <td>...</td>\n",
       "      <td>...</td>\n",
       "      <td>...</td>\n",
       "      <td>...</td>\n",
       "      <td>...</td>\n",
       "      <td>...</td>\n",
       "      <td>...</td>\n",
       "      <td>...</td>\n",
       "      <td>...</td>\n",
       "      <td>...</td>\n",
       "      <td>...</td>\n",
       "      <td>...</td>\n",
       "      <td>...</td>\n",
       "      <td>...</td>\n",
       "      <td>...</td>\n",
       "      <td>...</td>\n",
       "      <td>...</td>\n",
       "      <td>...</td>\n",
       "    </tr>\n",
       "    <tr>\n",
       "      <th>Nestor notabilis</th>\n",
       "      <td>0</td>\n",
       "      <td>48</td>\n",
       "      <td>nestoridae</td>\n",
       "      <td>0</td>\n",
       "      <td>1</td>\n",
       "      <td>32.0</td>\n",
       "      <td>48.000000</td>\n",
       "      <td>0.9000</td>\n",
       "      <td>1</td>\n",
       "      <td>0</td>\n",
       "      <td>...</td>\n",
       "      <td>0</td>\n",
       "      <td>1</td>\n",
       "      <td>0</td>\n",
       "      <td>0</td>\n",
       "      <td>0</td>\n",
       "      <td>0</td>\n",
       "      <td>0</td>\n",
       "      <td>0</td>\n",
       "      <td>1</td>\n",
       "      <td>0</td>\n",
       "    </tr>\n",
       "    <tr>\n",
       "      <th>Myiopsitta monachus</th>\n",
       "      <td>0</td>\n",
       "      <td>48</td>\n",
       "      <td>psittacidae</td>\n",
       "      <td>2</td>\n",
       "      <td>0</td>\n",
       "      <td>25.0</td>\n",
       "      <td>29.000000</td>\n",
       "      <td>0.1050</td>\n",
       "      <td>1</td>\n",
       "      <td>0</td>\n",
       "      <td>...</td>\n",
       "      <td>0</td>\n",
       "      <td>0</td>\n",
       "      <td>0</td>\n",
       "      <td>0</td>\n",
       "      <td>0</td>\n",
       "      <td>0</td>\n",
       "      <td>0</td>\n",
       "      <td>0</td>\n",
       "      <td>1</td>\n",
       "      <td>1</td>\n",
       "    </tr>\n",
       "    <tr>\n",
       "      <th>Pionus menstruus</th>\n",
       "      <td>0</td>\n",
       "      <td>48</td>\n",
       "      <td>psittacidae</td>\n",
       "      <td>0</td>\n",
       "      <td>0</td>\n",
       "      <td>40.0</td>\n",
       "      <td>28.000000</td>\n",
       "      <td>0.2645</td>\n",
       "      <td>1</td>\n",
       "      <td>0</td>\n",
       "      <td>...</td>\n",
       "      <td>0</td>\n",
       "      <td>0</td>\n",
       "      <td>0</td>\n",
       "      <td>0</td>\n",
       "      <td>0</td>\n",
       "      <td>0</td>\n",
       "      <td>0</td>\n",
       "      <td>0</td>\n",
       "      <td>0</td>\n",
       "      <td>1</td>\n",
       "    </tr>\n",
       "    <tr>\n",
       "      <th>Aratinga nenday</th>\n",
       "      <td>0</td>\n",
       "      <td>48</td>\n",
       "      <td>psittacidae</td>\n",
       "      <td>2</td>\n",
       "      <td>0</td>\n",
       "      <td>20.0</td>\n",
       "      <td>28.500000</td>\n",
       "      <td>0.1400</td>\n",
       "      <td>1</td>\n",
       "      <td>0</td>\n",
       "      <td>...</td>\n",
       "      <td>0</td>\n",
       "      <td>0</td>\n",
       "      <td>0</td>\n",
       "      <td>0</td>\n",
       "      <td>0</td>\n",
       "      <td>0</td>\n",
       "      <td>0</td>\n",
       "      <td>0</td>\n",
       "      <td>0</td>\n",
       "      <td>1</td>\n",
       "    </tr>\n",
       "    <tr>\n",
       "      <th>Rhynchopsitta pachyrhyncha</th>\n",
       "      <td>0</td>\n",
       "      <td>48</td>\n",
       "      <td>psittacidae</td>\n",
       "      <td>0</td>\n",
       "      <td>1</td>\n",
       "      <td>40.0</td>\n",
       "      <td>48.333333</td>\n",
       "      <td>0.3435</td>\n",
       "      <td>1</td>\n",
       "      <td>0</td>\n",
       "      <td>...</td>\n",
       "      <td>0</td>\n",
       "      <td>0</td>\n",
       "      <td>0</td>\n",
       "      <td>0</td>\n",
       "      <td>0</td>\n",
       "      <td>0</td>\n",
       "      <td>0</td>\n",
       "      <td>0</td>\n",
       "      <td>1</td>\n",
       "      <td>0</td>\n",
       "    </tr>\n",
       "  </tbody>\n",
       "</table>\n",
       "<p>799 rows × 28 columns</p>\n",
       "</div>"
      ],
      "text/plain": [
       "                            Class  Order       Family  Trend  Status  \\\n",
       "Scientific Name                                                        \n",
       "Canis lupus arctos              1      8      canidae      1       0   \n",
       "Vulpes lagopus                  1      8      canidae      1       0   \n",
       "Tamiasciurus hudsonicus         1     49    sciuridae      1       0   \n",
       "Canis lupus                     1      8      canidae      1       0   \n",
       "Mustela erminea                 1      8   mustelidae      1       0   \n",
       "...                           ...    ...          ...    ...     ...   \n",
       "Nestor notabilis                0     48   nestoridae      0       1   \n",
       "Myiopsitta monachus             0     48  psittacidae      2       0   \n",
       "Pionus menstruus                0     48  psittacidae      0       0   \n",
       "Aratinga nenday                 0     48  psittacidae      2       0   \n",
       "Rhynchopsitta pachyrhyncha      0     48  psittacidae      0       1   \n",
       "\n",
       "                            Life Span (years)  Length (cm)  Weight (kg)  \\\n",
       "Scientific Name                                                           \n",
       "Canis lupus arctos                       12.0    50.000000      51.0000   \n",
       "Vulpes lagopus                            8.5    53.500000       5.0000   \n",
       "Tamiasciurus hudsonicus                   7.5    32.500000       0.2395   \n",
       "Canis lupus                              15.0   132.500000      38.0000   \n",
       "Mustela erminea                           6.5    24.750000       0.2190   \n",
       "...                                       ...          ...          ...   \n",
       "Nestor notabilis                         32.0    48.000000       0.9000   \n",
       "Myiopsitta monachus                      25.0    29.000000       0.1050   \n",
       "Pionus menstruus                         40.0    28.000000       0.2645   \n",
       "Aratinga nenday                          20.0    28.500000       0.1400   \n",
       "Rhynchopsitta pachyrhyncha               40.0    48.333333       0.3435   \n",
       "\n",
       "                            Is Social  Is Nocturnal  ...  Europe  Oceania  \\\n",
       "Scientific Name                                      ...                    \n",
       "Canis lupus arctos                  1             0  ...       0        0   \n",
       "Vulpes lagopus                      0             0  ...       1        0   \n",
       "Tamiasciurus hudsonicus             0             0  ...       0        0   \n",
       "Canis lupus                         1             1  ...       1        0   \n",
       "Mustela erminea                     0             1  ...       1        1   \n",
       "...                               ...           ...  ...     ...      ...   \n",
       "Nestor notabilis                    1             0  ...       0        1   \n",
       "Myiopsitta monachus                 1             0  ...       0        0   \n",
       "Pionus menstruus                    1             0  ...       0        0   \n",
       "Aratinga nenday                     1             0  ...       0        0   \n",
       "Rhynchopsitta pachyrhyncha          1             0  ...       0        0   \n",
       "\n",
       "                            South America  Central America  North America  \\\n",
       "Scientific Name                                                             \n",
       "Canis lupus arctos                      0                0              0   \n",
       "Vulpes lagopus                          0                0              0   \n",
       "Tamiasciurus hudsonicus                 0                0              0   \n",
       "Canis lupus                             0                0              0   \n",
       "Mustela erminea                         0                0              0   \n",
       "...                                   ...              ...            ...   \n",
       "Nestor notabilis                        0                0              0   \n",
       "Myiopsitta monachus                     0                0              0   \n",
       "Pionus menstruus                        0                0              0   \n",
       "Aratinga nenday                         0                0              0   \n",
       "Rhynchopsitta pachyrhyncha              0                0              0   \n",
       "\n",
       "                            Cold  Dry/Desert  Polar/Tundra  Temperate  \\\n",
       "Scientific Name                                                         \n",
       "Canis lupus arctos             0           0             1          0   \n",
       "Vulpes lagopus                 0           0             1          0   \n",
       "Tamiasciurus hudsonicus        1           1             1          1   \n",
       "Canis lupus                    1           1             1          1   \n",
       "Mustela erminea                1           0             1          1   \n",
       "...                          ...         ...           ...        ...   \n",
       "Nestor notabilis               0           0             0          1   \n",
       "Myiopsitta monachus            0           0             0          1   \n",
       "Pionus menstruus               0           0             0          0   \n",
       "Aratinga nenday                0           0             0          0   \n",
       "Rhynchopsitta pachyrhyncha     0           0             0          1   \n",
       "\n",
       "                            Tropical  \n",
       "Scientific Name                       \n",
       "Canis lupus arctos                 0  \n",
       "Vulpes lagopus                     0  \n",
       "Tamiasciurus hudsonicus            0  \n",
       "Canis lupus                        0  \n",
       "Mustela erminea                    0  \n",
       "...                              ...  \n",
       "Nestor notabilis                   0  \n",
       "Myiopsitta monachus                1  \n",
       "Pionus menstruus                   1  \n",
       "Aratinga nenday                    1  \n",
       "Rhynchopsitta pachyrhyncha         0  \n",
       "\n",
       "[799 rows x 28 columns]"
      ]
     },
     "execution_count": 45,
     "metadata": {},
     "output_type": "execute_result"
    }
   ],
   "source": [
    "Status_Orders_df = animals_df[(animals_df['Order'] == 5) | (animals_df['Order'] == 8) | (animals_df['Order'] == 21) |\n",
    "                             (animals_df['Order'] == 45) | (animals_df['Order'] == 48) | (animals_df['Order'] == 49) |\n",
    "                             (animals_df['Order'] == 57) | (animals_df['Order'] == 41) | (animals_df['Order'] == 46) |\n",
    "                             (animals_df['Order'] == 51)]\n",
    "Status_Orders_df\n",
    "\n",
    "# 5 - ARTIODACTYLA (deers, pigs, whales), 8 - CARNIVORA (wolves, cats, foxes), 21 - DIPROTODONTIA (Kangaroo, mouses, Koala)\n",
    "# 45* - PRIMATES (monkeys, Lemors), 48 - PSITTACIFORMES (parrot), 49 - RODENTIA (Squirrel, Humsters),\n",
    "# 57 - TESTUDINES (turtles), 41 - PHOLIDOTA (pangolin), 46 - PROBOSCIDEA (elephant), 51 - SIRENIA (sea cows)"
   ]
  },
  {
   "cell_type": "code",
   "execution_count": 46,
   "metadata": {},
   "outputs": [
    {
     "data": {
      "text/plain": [
       "<matplotlib.legend.Legend at 0x2751d33dac8>"
      ]
     },
     "execution_count": 46,
     "metadata": {},
     "output_type": "execute_result"
    },
    {
     "data": {
      "image/png": "[encoded data removed]",
      "text/plain": [
       "<Figure size 1080x360 with 1 Axes>"
      ]
     },
     "metadata": {
      "needs_background": "light"
     },
     "output_type": "display_data"
    }
   ],
   "source": [
    "g = sns.catplot(\n",
    "    x='Order', \n",
    "    data = Status_Orders_df,\n",
    "    kind='count', \n",
    "    hue='Status',\n",
    "    palette=['#27AE60', '#E74C3C'],\n",
    "    height=5, \n",
    "    aspect=3,\n",
    "    legend=False,\n",
    "    ).set_axis_labels('Order', '# of animals')\n",
    "g.ax.legend(labels=['Safe','Endangered'])"
   ]
  },
  {
   "cell_type": "markdown",
   "metadata": {},
   "source": [
    "### We created another data frame which includes the combination between \"deacrising\" and \"endangered\" animals according to their Order."
   ]
  },
  {
   "cell_type": "code",
   "execution_count": 47,
   "metadata": {},
   "outputs": [],
   "source": [
    "Specific_Oreders_df = animals_df[(animals_df['Order'] == 5) | (animals_df['Order'] == 8) | (animals_df['Order'] == 10) |\n",
    "                                 (animals_df['Order'] == 21) | (animals_df['Order'] == 24) | (animals_df['Order'] == 26) |\n",
    "                                 (animals_df['Order'] == 28) | (animals_df['Order'] == 45) | (animals_df['Order'] == 48) |\n",
    "                                 (animals_df['Order'] == 49) | (animals_df['Order'] == 53) | (animals_df['Order'] == 57) |\n",
    "                                 (animals_df['Order'] == 41) | (animals_df['Order'] == 46) | (animals_df['Order'] == 51)]"
   ]
  },
  {
   "cell_type": "markdown",
   "metadata": {},
   "source": [
    "#### We can see that day active animals are more vulnerable than nocturnal animals according to the affected orders."
   ]
  },
  {
   "cell_type": "code",
   "execution_count": 123,
   "metadata": {},
   "outputs": [
    {
     "data": {
      "text/plain": [
       "<matplotlib.legend.Legend at 0x27523e2a0c8>"
      ]
     },
     "execution_count": 123,
     "metadata": {},
     "output_type": "execute_result"
    },
    {
     "data": {
      "image/png": "[encoded data removed]",
      "text/plain": [
       "<Figure size 1080x360 with 1 Axes>"
      ]
     },
     "metadata": {
      "needs_background": "light"
     },
     "output_type": "display_data"
    }
   ],
   "source": [
    "g = sns.catplot(\n",
    "    x='Order', \n",
    "    data = Specific_Oreders_df,\n",
    "    kind='count', \n",
    "    hue='Is Nocturnal',\n",
    "    palette=['#F39C12', '#5D6D7E'],\n",
    "    height=5, \n",
    "    aspect=3,\n",
    "    legend=False,\n",
    "    ).set_axis_labels('Order', 'No of animals')\n",
    "g.ax.legend(labels=['day active','nocturnal'])"
   ]
  },
  {
   "cell_type": "markdown",
   "metadata": {},
   "source": [
    "#### We can see that social animals are more vulnerable than nocturnal animals according to the affected orders, except Orders 53 (Snakes and Iguanas that belongs to Reptiles) and 8 (Wolves, Cats and Foxes)."
   ]
  },
  {
   "cell_type": "code",
   "execution_count": 124,
   "metadata": {},
   "outputs": [
    {
     "data": {
      "text/plain": [
       "<matplotlib.legend.Legend at 0x27524220f08>"
      ]
     },
     "execution_count": 124,
     "metadata": {},
     "output_type": "execute_result"
    },
    {
     "data": {
      "image/png": "[encoded data removed]",
      "text/plain": [
       "<Figure size 1080x360 with 1 Axes>"
      ]
     },
     "metadata": {
      "needs_background": "light"
     },
     "output_type": "display_data"
    }
   ],
   "source": [
    "g = sns.catplot(\n",
    "    x='Order', \n",
    "    data = Specific_Oreders_df,\n",
    "    kind='count', \n",
    "    hue='Is Social',\n",
    "    palette=['#5D6D7E', '#F39C12'],\n",
    "    height=5, \n",
    "    aspect=3,\n",
    "    legend=False,\n",
    "    ).set_axis_labels('Order', 'No of animals')\n",
    "g.ax.legend(labels=['solitary','social'])"
   ]
  },
  {
   "cell_type": "markdown",
   "metadata": {},
   "source": [
    "#### We can see that vegetarian animals are the most endangered animals."
   ]
  },
  {
   "cell_type": "code",
   "execution_count": 51,
   "metadata": {},
   "outputs": [
    {
     "data": {
      "text/plain": [
       "<matplotlib.legend.Legend at 0x2751d3188c8>"
      ]
     },
     "execution_count": 51,
     "metadata": {},
     "output_type": "execute_result"
    },
    {
     "data": {
      "image/png": "[encoded data removed]",
      "text/plain": [
       "<Figure size 1080x360 with 1 Axes>"
      ]
     },
     "metadata": {
      "needs_background": "light"
     },
     "output_type": "display_data"
    }
   ],
   "source": [
    "g = sns.catplot(\n",
    "    x='Order', \n",
    "    data = Specific_Oreders_df,\n",
    "    kind='count', \n",
    "    hue='Diet',\n",
    "    palette=['#5499C7', '#C0392B', '#27AE60', '#F39C12', '#707B7C'],\n",
    "    height=5, \n",
    "    aspect=3,\n",
    "    legend=False,\n",
    "    ).set_axis_labels('Order', '# of animals')\n",
    "g.ax.legend(labels=['Safe','Endangered'])"
   ]
  },
  {
   "cell_type": "markdown",
   "metadata": {},
   "source": [
    "#### We can see that polygamy animals are the most endangered animals."
   ]
  },
  {
   "cell_type": "code",
   "execution_count": 125,
   "metadata": {},
   "outputs": [
    {
     "data": {
      "text/plain": [
       "<matplotlib.legend.Legend at 0x2752527f908>"
      ]
     },
     "execution_count": 125,
     "metadata": {},
     "output_type": "execute_result"
    },
    {
     "data": {
      "image/png": "[encoded data removed]",
      "text/plain": [
       "<Figure size 1080x360 with 1 Axes>"
      ]
     },
     "metadata": {
      "needs_background": "light"
     },
     "output_type": "display_data"
    }
   ],
   "source": [
    "g = sns.catplot(\n",
    "    x='Order', \n",
    "    data = Specific_Oreders_df,\n",
    "    kind='count', \n",
    "    hue='Mating Behavior',\n",
    "    palette=['#99A3A4', '#9B59B6'],\n",
    "    height=5, \n",
    "    aspect=3,\n",
    "    legend=False,\n",
    "    ).set_axis_labels('Order', 'No of animals')\n",
    "g.ax.legend(labels=['monogamy','polygamy'])"
   ]
  },
  {
   "cell_type": "markdown",
   "metadata": {},
   "source": [
    "## Line Plots"
   ]
  },
  {
   "cell_type": "markdown",
   "metadata": {},
   "source": [
    "#### The relationship between the Status variable and the continuos variables: Incubation Period, Independent Age, Life Span, Baby Carrying, Weight, Length."
   ]
  },
  {
   "cell_type": "code",
   "execution_count": 53,
   "metadata": {},
   "outputs": [
    {
     "data": {
      "text/plain": [
       "<matplotlib.axes._subplots.AxesSubplot at 0x2751e978308>"
      ]
     },
     "execution_count": 53,
     "metadata": {},
     "output_type": "execute_result"
    },
    {
     "data": {
      "image/png": "[encoded data removed]",
      "text/plain": [
       "<Figure size 432x288 with 1 Axes>"
      ]
     },
     "metadata": {
      "needs_background": "light"
     },
     "output_type": "display_data"
    }
   ],
   "source": [
    "animals_lineplot1 = Specific_Oreders_df.groupby(['Status']).mean()[['Incubation Period (days)', 'Independent Age (days)']]\n",
    "animals_lineplot1.plot()"
   ]
  },
  {
   "cell_type": "code",
   "execution_count": 54,
   "metadata": {},
   "outputs": [
    {
     "data": {
      "text/plain": [
       "<matplotlib.axes._subplots.AxesSubplot at 0x2751e6164c8>"
      ]
     },
     "execution_count": 54,
     "metadata": {},
     "output_type": "execute_result"
    },
    {
     "data": {
      "image/png": "[encoded data removed]",
      "text/plain": [
       "<Figure size 432x288 with 1 Axes>"
      ]
     },
     "metadata": {
      "needs_background": "light"
     },
     "output_type": "display_data"
    }
   ],
   "source": [
    "animals_lineplot2 = Specific_Oreders_df.groupby(['Status']).mean()[['Life Span (years)', 'Baby Carrying']]\n",
    "animals_lineplot2.plot()"
   ]
  },
  {
   "cell_type": "code",
   "execution_count": 55,
   "metadata": {},
   "outputs": [
    {
     "data": {
      "text/plain": [
       "<matplotlib.axes._subplots.AxesSubplot at 0x2751e69ad88>"
      ]
     },
     "execution_count": 55,
     "metadata": {},
     "output_type": "execute_result"
    },
    {
     "data": {
      "image/png": "[encoded data removed]",
      "text/plain": [
       "<Figure size 432x288 with 1 Axes>"
      ]
     },
     "metadata": {
      "needs_background": "light"
     },
     "output_type": "display_data"
    }
   ],
   "source": [
    "animals_lineplot3 = Specific_Oreders_df.groupby(['Status']).mean()[['Weight (kg)']]\n",
    "animals_lineplot3.plot()"
   ]
  },
  {
   "cell_type": "code",
   "execution_count": 56,
   "metadata": {},
   "outputs": [
    {
     "data": {
      "text/plain": [
       "<matplotlib.axes._subplots.AxesSubplot at 0x2751e616d88>"
      ]
     },
     "execution_count": 56,
     "metadata": {},
     "output_type": "execute_result"
    },
    {
     "data": {
      "image/png": "[encoded data removed]",
      "text/plain": [
       "<Figure size 432x288 with 1 Axes>"
      ]
     },
     "metadata": {
      "needs_background": "light"
     },
     "output_type": "display_data"
    }
   ],
   "source": [
    "animals_lineplot3 = Specific_Oreders_df.groupby(['Status']).mean()[['Length (cm)']]\n",
    "animals_lineplot3.plot()"
   ]
  },
  {
   "cell_type": "markdown",
   "metadata": {},
   "source": [
    "# World map according to Endangered Status"
   ]
  },
  {
   "cell_type": "markdown",
   "metadata": {},
   "source": [
    "#### We demonstrate the ratio between the endangered and safe animals for each continent."
   ]
  },
  {
   "cell_type": "code",
   "execution_count": 106,
   "metadata": {},
   "outputs": [
    {
     "data": {
      "text/html": [
       "<div>\n",
       "<style scoped>\n",
       "    .dataframe tbody tr th:only-of-type {\n",
       "        vertical-align: middle;\n",
       "    }\n",
       "\n",
       "    .dataframe tbody tr th {\n",
       "        vertical-align: top;\n",
       "    }\n",
       "\n",
       "    .dataframe thead th {\n",
       "        text-align: right;\n",
       "    }\n",
       "</style>\n",
       "<table border=\"1\" class=\"dataframe\">\n",
       "  <thead>\n",
       "    <tr style=\"text-align: right;\">\n",
       "      <th></th>\n",
       "      <th>continent</th>\n",
       "      <th>ratio</th>\n",
       "    </tr>\n",
       "  </thead>\n",
       "  <tbody>\n",
       "    <tr>\n",
       "      <th>0</th>\n",
       "      <td>Africa</td>\n",
       "      <td>29.213483</td>\n",
       "    </tr>\n",
       "    <tr>\n",
       "      <th>1</th>\n",
       "      <td>Antarctica</td>\n",
       "      <td>26.388889</td>\n",
       "    </tr>\n",
       "    <tr>\n",
       "      <th>2</th>\n",
       "      <td>Asia</td>\n",
       "      <td>30.973451</td>\n",
       "    </tr>\n",
       "    <tr>\n",
       "      <th>3</th>\n",
       "      <td>Europe</td>\n",
       "      <td>13.571429</td>\n",
       "    </tr>\n",
       "    <tr>\n",
       "      <th>4</th>\n",
       "      <td>Oceania</td>\n",
       "      <td>23.432343</td>\n",
       "    </tr>\n",
       "    <tr>\n",
       "      <th>5</th>\n",
       "      <td>Americas</td>\n",
       "      <td>36.363636</td>\n",
       "    </tr>\n",
       "  </tbody>\n",
       "</table>\n",
       "</div>"
      ],
      "text/plain": [
       "    continent      ratio\n",
       "0      Africa  29.213483\n",
       "1  Antarctica  26.388889\n",
       "2        Asia  30.973451\n",
       "3      Europe  13.571429\n",
       "4     Oceania  23.432343\n",
       "5    Americas  36.363636"
      ]
     },
     "execution_count": 106,
     "metadata": {},
     "output_type": "execute_result"
    }
   ],
   "source": [
    "Africa_df = animals_df[(animals_df['Africa'] == 1)]\n",
    "Africa_ratio = Africa_df['Status'].value_counts()[1] / Africa_df.shape[0] * 100\n",
    "\n",
    "Antarctica_df = animals_df[(animals_df['Antarctica'] == 1)]\n",
    "Antarctica_ratio = Antarctica_df['Status'].value_counts()[1] / Antarctica_df.shape[0]  * 100\n",
    "\n",
    "Asia_df = animals_df[(animals_df['Asia'] == 1)]\n",
    "Asia_ratio = Asia_df['Status'].value_counts()[1] / Asia_df.shape[0]  * 100\n",
    "\n",
    "Europe_df = animals_df[(animals_df['Europe'] == 1)]\n",
    "Europe_ratio = Europe_df['Status'].value_counts()[1] / Europe_df.shape[0]  * 100\n",
    "\n",
    "Oceania_df = animals_df[(animals_df['Oceania'] == 1)]\n",
    "Oceania_ratio = Oceania_df['Status'].value_counts()[1] / Oceania_df.shape[0]  * 100\n",
    "\n",
    "Americas_df = animals_df[(animals_df['South America'] == 1) | (animals_df['Central America'] == 1) |\n",
    "                        (animals_df['North America'] == 1)]\n",
    "Americas_ratio = Americas_df['Status'].value_counts()[1] / Americas_df.shape[0]  * 100\n",
    "\n",
    "\n",
    "continents_dict = {'continent':['Africa', 'Antarctica', 'Asia', 'Europe', 'Oceania', 'Americas'],\n",
    "                   'ratio':[Africa_ratio, Antarctica_ratio, Asia_ratio, Europe_ratio, Oceania_ratio, Americas_ratio]}\n",
    "\n",
    "Continents_df = pd.DataFrame(continents_dict)\n",
    "Continents_df"
   ]
  },
  {
   "cell_type": "code",
   "execution_count": 109,
   "metadata": {},
   "outputs": [
    {
     "data": {
      "application/vnd.plotly.v1+json": {
       "config": {
        "plotlyServerURL": "https://plot.ly"
       },
       "data": [
        {
         "coloraxis": "coloraxis",
         "geo": "geo",
         "hovertemplate": "<b>%{hovertext}</b><br><br>iso_alpha=%{location}<br>ratio=%{z}<extra></extra>",
         "hovertext": [
          "Asia",
          "Europe",
          "Africa",
          "Africa",
          "Americas",
          "Oceania",
          "Europe",
          "Asia",
          "Asia",
          "Europe",
          "Africa",
          "Americas",
          "Europe",
          "Africa",
          "Americas",
          "Europe",
          "Africa",
          "Africa",
          "Asia",
          "Africa",
          "Americas",
          "Africa",
          "Africa",
          "Americas",
          "Asia",
          "Americas",
          "Africa",
          "Africa",
          "Africa",
          "Americas",
          "Africa",
          "Europe",
          "Americas",
          "Europe",
          "Europe",
          "Africa",
          "Americas",
          "Americas",
          "Africa",
          "Americas",
          "Africa",
          "Africa",
          "Africa",
          "Europe",
          "Europe",
          "Africa",
          "Africa",
          "Europe",
          "Africa",
          "Europe",
          "Americas",
          "Africa",
          "Africa",
          "Americas",
          "Americas",
          "Asia",
          "Europe",
          "Europe",
          "Asia",
          "Asia",
          "Asia",
          "Asia",
          "Europe",
          "Asia",
          "Europe",
          "Americas",
          "Asia",
          "Asia",
          "Africa",
          "Asia",
          "Asia",
          "Asia",
          "Asia",
          "Africa",
          "Africa",
          "Africa",
          "Africa",
          "Africa",
          "Asia",
          "Africa",
          "Africa",
          "Africa",
          "Americas",
          "Asia",
          "Europe",
          "Africa",
          "Africa",
          "Asia",
          "Africa",
          "Asia",
          "Europe",
          "Oceania",
          "Americas",
          "Africa",
          "Africa",
          "Europe",
          "Asia",
          "Asia",
          "Americas",
          "Americas",
          "Americas",
          "Asia",
          "Europe",
          "Europe",
          "Americas",
          "Africa",
          "Europe",
          "Africa",
          "Africa",
          "Asia",
          "Africa",
          "Europe",
          "Africa",
          "Asia",
          "Europe",
          "Europe",
          "Africa",
          "Africa",
          "Europe",
          "Asia",
          "Africa",
          "Africa",
          "Europe",
          "Europe",
          "Asia",
          "Asia",
          "Africa",
          "Asia",
          "Africa",
          "Americas",
          "Africa",
          "Europe",
          "Africa",
          "Europe",
          "Americas",
          "Americas",
          "Americas",
          "Asia",
          "Asia",
          "Asia",
          "Africa",
          "Africa"
         ],
         "locations": [
          "AFG",
          "ALB",
          "DZA",
          "AGO",
          "ARG",
          "AUS",
          "AUT",
          "BHR",
          "BGD",
          "BEL",
          "BEN",
          "BOL",
          "BIH",
          "BWA",
          "BRA",
          "BGR",
          "BFA",
          "BDI",
          "KHM",
          "CMR",
          "CAN",
          "CAF",
          "TCD",
          "CHL",
          "CHN",
          "COL",
          "COM",
          "COD",
          "COG",
          "CRI",
          "CIV",
          "HRV",
          "CUB",
          "CZE",
          "DNK",
          "DJI",
          "DOM",
          "ECU",
          "EGY",
          "SLV",
          "GNQ",
          "ERI",
          "ETH",
          "FIN",
          "FRA",
          "GAB",
          "GMB",
          "DEU",
          "GHA",
          "GRC",
          "GTM",
          "GIN",
          "GNB",
          "HTI",
          "HND",
          "HKG",
          "HUN",
          "ISL",
          "IND",
          "IDN",
          "IRN",
          "IRQ",
          "IRL",
          "ISR",
          "ITA",
          "JAM",
          "JPN",
          "JOR",
          "KEN",
          "KOR",
          "KOR",
          "KWT",
          "LBN",
          "LSO",
          "LBR",
          "LBY",
          "MDG",
          "MWI",
          "MYS",
          "MLI",
          "MRT",
          "MUS",
          "MEX",
          "MNG",
          "MNE",
          "MAR",
          "MOZ",
          "MMR",
          "NAM",
          "NPL",
          "NLD",
          "NZL",
          "NIC",
          "NER",
          "NGA",
          "NOR",
          "OMN",
          "PAK",
          "PAN",
          "PRY",
          "PER",
          "PHL",
          "POL",
          "PRT",
          "PRI",
          "REU",
          "ROU",
          "RWA",
          "STP",
          "SAU",
          "SEN",
          "SRB",
          "SLE",
          "SGP",
          "SVK",
          "SVN",
          "SOM",
          "ZAF",
          "ESP",
          "LKA",
          "SDN",
          "SWZ",
          "SWE",
          "CHE",
          "SYR",
          "TWN",
          "TZA",
          "THA",
          "TGO",
          "TTO",
          "TUN",
          "TUR",
          "UGA",
          "GBR",
          "USA",
          "URY",
          "VEN",
          "VNM",
          "PSE",
          "YEM",
          "ZMB",
          "ZWE"
         ],
         "name": "",
         "type": "choropleth",
         "z": [
          30.973451327433626,
          13.571428571428571,
          29.213483146067414,
          29.213483146067414,
          36.36363636363637,
          23.432343234323433,
          13.571428571428571,
          30.973451327433626,
          30.973451327433626,
          13.571428571428571,
          29.213483146067414,
          36.36363636363637,
          13.571428571428571,
          29.213483146067414,
          36.36363636363637,
          13.571428571428571,
          29.213483146067414,
          29.213483146067414,
          30.973451327433626,
          29.213483146067414,
          36.36363636363637,
          29.213483146067414,
          29.213483146067414,
          36.36363636363637,
          30.973451327433626,
          36.36363636363637,
          29.213483146067414,
          29.213483146067414,
          29.213483146067414,
          36.36363636363637,
          29.213483146067414,
          13.571428571428571,
          36.36363636363637,
          13.571428571428571,
          13.571428571428571,
          29.213483146067414,
          36.36363636363637,
          36.36363636363637,
          29.213483146067414,
          36.36363636363637,
          29.213483146067414,
          29.213483146067414,
          29.213483146067414,
          13.571428571428571,
          13.571428571428571,
          29.213483146067414,
          29.213483146067414,
          13.571428571428571,
          29.213483146067414,
          13.571428571428571,
          36.36363636363637,
          29.213483146067414,
          29.213483146067414,
          36.36363636363637,
          36.36363636363637,
          30.973451327433626,
          13.571428571428571,
          13.571428571428571,
          30.973451327433626,
          30.973451327433626,
          30.973451327433626,
          30.973451327433626,
          13.571428571428571,
          30.973451327433626,
          13.571428571428571,
          36.36363636363637,
          30.973451327433626,
          30.973451327433626,
          29.213483146067414,
          30.973451327433626,
          30.973451327433626,
          30.973451327433626,
          30.973451327433626,
          29.213483146067414,
          29.213483146067414,
          29.213483146067414,
          29.213483146067414,
          29.213483146067414,
          30.973451327433626,
          29.213483146067414,
          29.213483146067414,
          29.213483146067414,
          36.36363636363637,
          30.973451327433626,
          13.571428571428571,
          29.213483146067414,
          29.213483146067414,
          30.973451327433626,
          29.213483146067414,
          30.973451327433626,
          13.571428571428571,
          23.432343234323433,
          36.36363636363637,
          29.213483146067414,
          29.213483146067414,
          13.571428571428571,
          30.973451327433626,
          30.973451327433626,
          36.36363636363637,
          36.36363636363637,
          36.36363636363637,
          30.973451327433626,
          13.571428571428571,
          13.571428571428571,
          36.36363636363637,
          29.213483146067414,
          13.571428571428571,
          29.213483146067414,
          29.213483146067414,
          30.973451327433626,
          29.213483146067414,
          13.571428571428571,
          29.213483146067414,
          30.973451327433626,
          13.571428571428571,
          13.571428571428571,
          29.213483146067414,
          29.213483146067414,
          13.571428571428571,
          30.973451327433626,
          29.213483146067414,
          29.213483146067414,
          13.571428571428571,
          13.571428571428571,
          30.973451327433626,
          30.973451327433626,
          29.213483146067414,
          30.973451327433626,
          29.213483146067414,
          36.36363636363637,
          29.213483146067414,
          13.571428571428571,
          29.213483146067414,
          13.571428571428571,
          36.36363636363637,
          36.36363636363637,
          36.36363636363637,
          30.973451327433626,
          30.973451327433626,
          30.973451327433626,
          29.213483146067414,
          29.213483146067414
         ]
        }
       ],
       "layout": {
        "coloraxis": {
         "colorbar": {
          "title": {
           "text": "ratio"
          }
         },
         "colorscale": [
          [
           0,
           "rgb(255,245,240)"
          ],
          [
           0.125,
           "rgb(254,224,210)"
          ],
          [
           0.25,
           "rgb(252,187,161)"
          ],
          [
           0.375,
           "rgb(252,146,114)"
          ],
          [
           0.5,
           "rgb(251,106,74)"
          ],
          [
           0.625,
           "rgb(239,59,44)"
          ],
          [
           0.75,
           "rgb(203,24,29)"
          ],
          [
           0.875,
           "rgb(165,15,21)"
          ],
          [
           1,
           "rgb(103,0,13)"
          ]
         ]
        },
        "geo": {
         "center": {},
         "domain": {
          "x": [
           0,
           1
          ],
          "y": [
           0,
           1
          ]
         },
         "projection": {
          "type": "natural earth"
         }
        },
        "height": 300,
        "legend": {
         "tracegroupgap": 0
        },
        "margin": {
         "b": 0,
         "l": 0,
         "r": 0,
         "t": 0
        },
        "template": {
         "data": {
          "bar": [
           {
            "error_x": {
             "color": "#2a3f5f"
            },
            "error_y": {
             "color": "#2a3f5f"
            },
            "marker": {
             "line": {
              "color": "#E5ECF6",
              "width": 0.5
             }
            },
            "type": "bar"
           }
          ],
          "barpolar": [
           {
            "marker": {
             "line": {
              "color": "#E5ECF6",
              "width": 0.5
             }
            },
            "type": "barpolar"
           }
          ],
          "carpet": [
           {
            "aaxis": {
             "endlinecolor": "#2a3f5f",
             "gridcolor": "white",
             "linecolor": "white",
             "minorgridcolor": "white",
             "startlinecolor": "#2a3f5f"
            },
            "baxis": {
             "endlinecolor": "#2a3f5f",
             "gridcolor": "white",
             "linecolor": "white",
             "minorgridcolor": "white",
             "startlinecolor": "#2a3f5f"
            },
            "type": "carpet"
           }
          ],
          "choropleth": [
           {
            "colorbar": {
             "outlinewidth": 0,
             "ticks": ""
            },
            "type": "choropleth"
           }
          ],
          "contour": [
           {
            "colorbar": {
             "outlinewidth": 0,
             "ticks": ""
            },
            "colorscale": [
             [
              0,
              "#0d0887"
             ],
             [
              0.1111111111111111,
              "#46039f"
             ],
             [
              0.2222222222222222,
              "#7201a8"
             ],
             [
              0.3333333333333333,
              "#9c179e"
             ],
             [
              0.4444444444444444,
              "#bd3786"
             ],
             [
              0.5555555555555556,
              "#d8576b"
             ],
             [
              0.6666666666666666,
              "#ed7953"
             ],
             [
              0.7777777777777778,
              "#fb9f3a"
             ],
             [
              0.8888888888888888,
              "#fdca26"
             ],
             [
              1,
              "#f0f921"
             ]
            ],
            "type": "contour"
           }
          ],
          "contourcarpet": [
           {
            "colorbar": {
             "outlinewidth": 0,
             "ticks": ""
            },
            "type": "contourcarpet"
           }
          ],
          "heatmap": [
           {
            "colorbar": {
             "outlinewidth": 0,
             "ticks": ""
            },
            "colorscale": [
             [
              0,
              "#0d0887"
             ],
             [
              0.1111111111111111,
              "#46039f"
             ],
             [
              0.2222222222222222,
              "#7201a8"
             ],
             [
              0.3333333333333333,
              "#9c179e"
             ],
             [
              0.4444444444444444,
              "#bd3786"
             ],
             [
              0.5555555555555556,
              "#d8576b"
             ],
             [
              0.6666666666666666,
              "#ed7953"
             ],
             [
              0.7777777777777778,
              "#fb9f3a"
             ],
             [
              0.8888888888888888,
              "#fdca26"
             ],
             [
              1,
              "#f0f921"
             ]
            ],
            "type": "heatmap"
           }
          ],
          "heatmapgl": [
           {
            "colorbar": {
             "outlinewidth": 0,
             "ticks": ""
            },
            "colorscale": [
             [
              0,
              "#0d0887"
             ],
             [
              0.1111111111111111,
              "#46039f"
             ],
             [
              0.2222222222222222,
              "#7201a8"
             ],
             [
              0.3333333333333333,
              "#9c179e"
             ],
             [
              0.4444444444444444,
              "#bd3786"
             ],
             [
              0.5555555555555556,
              "#d8576b"
             ],
             [
              0.6666666666666666,
              "#ed7953"
             ],
             [
              0.7777777777777778,
              "#fb9f3a"
             ],
             [
              0.8888888888888888,
              "#fdca26"
             ],
             [
              1,
              "#f0f921"
             ]
            ],
            "type": "heatmapgl"
           }
          ],
          "histogram": [
           {
            "marker": {
             "colorbar": {
              "outlinewidth": 0,
              "ticks": ""
             }
            },
            "type": "histogram"
           }
          ],
          "histogram2d": [
           {
            "colorbar": {
             "outlinewidth": 0,
             "ticks": ""
            },
            "colorscale": [
             [
              0,
              "#0d0887"
             ],
             [
              0.1111111111111111,
              "#46039f"
             ],
             [
              0.2222222222222222,
              "#7201a8"
             ],
             [
              0.3333333333333333,
              "#9c179e"
             ],
             [
              0.4444444444444444,
              "#bd3786"
             ],
             [
              0.5555555555555556,
              "#d8576b"
             ],
             [
              0.6666666666666666,
              "#ed7953"
             ],
             [
              0.7777777777777778,
              "#fb9f3a"
             ],
             [
              0.8888888888888888,
              "#fdca26"
             ],
             [
              1,
              "#f0f921"
             ]
            ],
            "type": "histogram2d"
           }
          ],
          "histogram2dcontour": [
           {
            "colorbar": {
             "outlinewidth": 0,
             "ticks": ""
            },
            "colorscale": [
             [
              0,
              "#0d0887"
             ],
             [
              0.1111111111111111,
              "#46039f"
             ],
             [
              0.2222222222222222,
              "#7201a8"
             ],
             [
              0.3333333333333333,
              "#9c179e"
             ],
             [
              0.4444444444444444,
              "#bd3786"
             ],
             [
              0.5555555555555556,
              "#d8576b"
             ],
             [
              0.6666666666666666,
              "#ed7953"
             ],
             [
              0.7777777777777778,
              "#fb9f3a"
             ],
             [
              0.8888888888888888,
              "#fdca26"
             ],
             [
              1,
              "#f0f921"
             ]
            ],
            "type": "histogram2dcontour"
           }
          ],
          "mesh3d": [
           {
            "colorbar": {
             "outlinewidth": 0,
             "ticks": ""
            },
            "type": "mesh3d"
           }
          ],
          "parcoords": [
           {
            "line": {
             "colorbar": {
              "outlinewidth": 0,
              "ticks": ""
             }
            },
            "type": "parcoords"
           }
          ],
          "pie": [
           {
            "automargin": true,
            "type": "pie"
           }
          ],
          "scatter": [
           {
            "marker": {
             "colorbar": {
              "outlinewidth": 0,
              "ticks": ""
             }
            },
            "type": "scatter"
           }
          ],
          "scatter3d": [
           {
            "line": {
             "colorbar": {
              "outlinewidth": 0,
              "ticks": ""
             }
            },
            "marker": {
             "colorbar": {
              "outlinewidth": 0,
              "ticks": ""
             }
            },
            "type": "scatter3d"
           }
          ],
          "scattercarpet": [
           {
            "marker": {
             "colorbar": {
              "outlinewidth": 0,
              "ticks": ""
             }
            },
            "type": "scattercarpet"
           }
          ],
          "scattergeo": [
           {
            "marker": {
             "colorbar": {
              "outlinewidth": 0,
              "ticks": ""
             }
            },
            "type": "scattergeo"
           }
          ],
          "scattergl": [
           {
            "marker": {
             "colorbar": {
              "outlinewidth": 0,
              "ticks": ""
             }
            },
            "type": "scattergl"
           }
          ],
          "scattermapbox": [
           {
            "marker": {
             "colorbar": {
              "outlinewidth": 0,
              "ticks": ""
             }
            },
            "type": "scattermapbox"
           }
          ],
          "scatterpolar": [
           {
            "marker": {
             "colorbar": {
              "outlinewidth": 0,
              "ticks": ""
             }
            },
            "type": "scatterpolar"
           }
          ],
          "scatterpolargl": [
           {
            "marker": {
             "colorbar": {
              "outlinewidth": 0,
              "ticks": ""
             }
            },
            "type": "scatterpolargl"
           }
          ],
          "scatterternary": [
           {
            "marker": {
             "colorbar": {
              "outlinewidth": 0,
              "ticks": ""
             }
            },
            "type": "scatterternary"
           }
          ],
          "surface": [
           {
            "colorbar": {
             "outlinewidth": 0,
             "ticks": ""
            },
            "colorscale": [
             [
              0,
              "#0d0887"
             ],
             [
              0.1111111111111111,
              "#46039f"
             ],
             [
              0.2222222222222222,
              "#7201a8"
             ],
             [
              0.3333333333333333,
              "#9c179e"
             ],
             [
              0.4444444444444444,
              "#bd3786"
             ],
             [
              0.5555555555555556,
              "#d8576b"
             ],
             [
              0.6666666666666666,
              "#ed7953"
             ],
             [
              0.7777777777777778,
              "#fb9f3a"
             ],
             [
              0.8888888888888888,
              "#fdca26"
             ],
             [
              1,
              "#f0f921"
             ]
            ],
            "type": "surface"
           }
          ],
          "table": [
           {
            "cells": {
             "fill": {
              "color": "#EBF0F8"
             },
             "line": {
              "color": "white"
             }
            },
            "header": {
             "fill": {
              "color": "#C8D4E3"
             },
             "line": {
              "color": "white"
             }
            },
            "type": "table"
           }
          ]
         },
         "layout": {
          "annotationdefaults": {
           "arrowcolor": "#2a3f5f",
           "arrowhead": 0,
           "arrowwidth": 1
          },
          "autotypenumbers": "strict",
          "coloraxis": {
           "colorbar": {
            "outlinewidth": 0,
            "ticks": ""
           }
          },
          "colorscale": {
           "diverging": [
            [
             0,
             "#8e0152"
            ],
            [
             0.1,
             "#c51b7d"
            ],
            [
             0.2,
             "#de77ae"
            ],
            [
             0.3,
             "#f1b6da"
            ],
            [
             0.4,
             "#fde0ef"
            ],
            [
             0.5,
             "#f7f7f7"
            ],
            [
             0.6,
             "#e6f5d0"
            ],
            [
             0.7,
             "#b8e186"
            ],
            [
             0.8,
             "#7fbc41"
            ],
            [
             0.9,
             "#4d9221"
            ],
            [
             1,
             "#276419"
            ]
           ],
           "sequential": [
            [
             0,
             "#0d0887"
            ],
            [
             0.1111111111111111,
             "#46039f"
            ],
            [
             0.2222222222222222,
             "#7201a8"
            ],
            [
             0.3333333333333333,
             "#9c179e"
            ],
            [
             0.4444444444444444,
             "#bd3786"
            ],
            [
             0.5555555555555556,
             "#d8576b"
            ],
            [
             0.6666666666666666,
             "#ed7953"
            ],
            [
             0.7777777777777778,
             "#fb9f3a"
            ],
            [
             0.8888888888888888,
             "#fdca26"
            ],
            [
             1,
             "#f0f921"
            ]
           ],
           "sequentialminus": [
            [
             0,
             "#0d0887"
            ],
            [
             0.1111111111111111,
             "#46039f"
            ],
            [
             0.2222222222222222,
             "#7201a8"
            ],
            [
             0.3333333333333333,
             "#9c179e"
            ],
            [
             0.4444444444444444,
             "#bd3786"
            ],
            [
             0.5555555555555556,
             "#d8576b"
            ],
            [
             0.6666666666666666,
             "#ed7953"
            ],
            [
             0.7777777777777778,
             "#fb9f3a"
            ],
            [
             0.8888888888888888,
             "#fdca26"
            ],
            [
             1,
             "#f0f921"
            ]
           ]
          },
          "colorway": [
           "#636efa",
           "#EF553B",
           "#00cc96",
           "#ab63fa",
           "#FFA15A",
           "#19d3f3",
           "#FF6692",
           "#B6E880",
           "#FF97FF",
           "#FECB52"
          ],
          "font": {
           "color": "#2a3f5f"
          },
          "geo": {
           "bgcolor": "white",
           "lakecolor": "white",
           "landcolor": "#E5ECF6",
           "showlakes": true,
           "showland": true,
           "subunitcolor": "white"
          },
          "hoverlabel": {
           "align": "left"
          },
          "hovermode": "closest",
          "mapbox": {
           "style": "light"
          },
          "paper_bgcolor": "white",
          "plot_bgcolor": "#E5ECF6",
          "polar": {
           "angularaxis": {
            "gridcolor": "white",
            "linecolor": "white",
            "ticks": ""
           },
           "bgcolor": "#E5ECF6",
           "radialaxis": {
            "gridcolor": "white",
            "linecolor": "white",
            "ticks": ""
           }
          },
          "scene": {
           "xaxis": {
            "backgroundcolor": "#E5ECF6",
            "gridcolor": "white",
            "gridwidth": 2,
            "linecolor": "white",
            "showbackground": true,
            "ticks": "",
            "zerolinecolor": "white"
           },
           "yaxis": {
            "backgroundcolor": "#E5ECF6",
            "gridcolor": "white",
            "gridwidth": 2,
            "linecolor": "white",
            "showbackground": true,
            "ticks": "",
            "zerolinecolor": "white"
           },
           "zaxis": {
            "backgroundcolor": "#E5ECF6",
            "gridcolor": "white",
            "gridwidth": 2,
            "linecolor": "white",
            "showbackground": true,
            "ticks": "",
            "zerolinecolor": "white"
           }
          },
          "shapedefaults": {
           "line": {
            "color": "#2a3f5f"
           }
          },
          "ternary": {
           "aaxis": {
            "gridcolor": "white",
            "linecolor": "white",
            "ticks": ""
           },
           "baxis": {
            "gridcolor": "white",
            "linecolor": "white",
            "ticks": ""
           },
           "bgcolor": "#E5ECF6",
           "caxis": {
            "gridcolor": "white",
            "linecolor": "white",
            "ticks": ""
           }
          },
          "title": {
           "x": 0.05
          },
          "xaxis": {
           "automargin": true,
           "gridcolor": "white",
           "linecolor": "white",
           "ticks": "",
           "title": {
            "standoff": 15
           },
           "zerolinecolor": "white",
           "zerolinewidth": 2
          },
          "yaxis": {
           "automargin": true,
           "gridcolor": "white",
           "linecolor": "white",
           "ticks": "",
           "title": {
            "standoff": 15
           },
           "zerolinecolor": "white",
           "zerolinewidth": 2
          }
         }
        }
       }
      },
      "text/html": [
       "<div>                            <div id=\"cc553fd1-ec76-4854-ad1b-980b38234b79\" class=\"plotly-graph-div\" style=\"height:300px; width:100%;\"></div>            <script type=\"text/javascript\">                require([\"plotly\"], function(Plotly) {                    window.PLOTLYENV=window.PLOTLYENV || {};                                    if (document.getElementById(\"cc553fd1-ec76-4854-ad1b-980b38234b79\")) {                    Plotly.newPlot(                        \"cc553fd1-ec76-4854-ad1b-980b38234b79\",                        [{\"coloraxis\": \"coloraxis\", \"geo\": \"geo\", \"hovertemplate\": \"<b>%{hovertext}</b><br><br>iso_alpha=%{location}<br>ratio=%{z}<extra></extra>\", \"hovertext\": [\"Asia\", \"Europe\", \"Africa\", \"Africa\", \"Americas\", \"Oceania\", \"Europe\", \"Asia\", \"Asia\", \"Europe\", \"Africa\", \"Americas\", \"Europe\", \"Africa\", \"Americas\", \"Europe\", \"Africa\", \"Africa\", \"Asia\", \"Africa\", \"Americas\", \"Africa\", \"Africa\", \"Americas\", \"Asia\", \"Americas\", \"Africa\", \"Africa\", \"Africa\", \"Americas\", \"Africa\", \"Europe\", \"Americas\", \"Europe\", \"Europe\", \"Africa\", \"Americas\", \"Americas\", \"Africa\", \"Americas\", \"Africa\", \"Africa\", \"Africa\", \"Europe\", \"Europe\", \"Africa\", \"Africa\", \"Europe\", \"Africa\", \"Europe\", \"Americas\", \"Africa\", \"Africa\", \"Americas\", \"Americas\", \"Asia\", \"Europe\", \"Europe\", \"Asia\", \"Asia\", \"Asia\", \"Asia\", \"Europe\", \"Asia\", \"Europe\", \"Americas\", \"Asia\", \"Asia\", \"Africa\", \"Asia\", \"Asia\", \"Asia\", \"Asia\", \"Africa\", \"Africa\", \"Africa\", \"Africa\", \"Africa\", \"Asia\", \"Africa\", \"Africa\", \"Africa\", \"Americas\", \"Asia\", \"Europe\", \"Africa\", \"Africa\", \"Asia\", \"Africa\", \"Asia\", \"Europe\", \"Oceania\", \"Americas\", \"Africa\", \"Africa\", \"Europe\", \"Asia\", \"Asia\", \"Americas\", \"Americas\", \"Americas\", \"Asia\", \"Europe\", \"Europe\", \"Americas\", \"Africa\", \"Europe\", \"Africa\", \"Africa\", \"Asia\", \"Africa\", \"Europe\", \"Africa\", \"Asia\", \"Europe\", \"Europe\", \"Africa\", \"Africa\", \"Europe\", \"Asia\", \"Africa\", \"Africa\", \"Europe\", \"Europe\", \"Asia\", \"Asia\", \"Africa\", \"Asia\", \"Africa\", \"Americas\", \"Africa\", \"Europe\", \"Africa\", \"Europe\", \"Americas\", \"Americas\", \"Americas\", \"Asia\", \"Asia\", \"Asia\", \"Africa\", \"Africa\"], \"locations\": [\"AFG\", \"ALB\", \"DZA\", \"AGO\", \"ARG\", \"AUS\", \"AUT\", \"BHR\", \"BGD\", \"BEL\", \"BEN\", \"BOL\", \"BIH\", \"BWA\", \"BRA\", \"BGR\", \"BFA\", \"BDI\", \"KHM\", \"CMR\", \"CAN\", \"CAF\", \"TCD\", \"CHL\", \"CHN\", \"COL\", \"COM\", \"COD\", \"COG\", \"CRI\", \"CIV\", \"HRV\", \"CUB\", \"CZE\", \"DNK\", \"DJI\", \"DOM\", \"ECU\", \"EGY\", \"SLV\", \"GNQ\", \"ERI\", \"ETH\", \"FIN\", \"FRA\", \"GAB\", \"GMB\", \"DEU\", \"GHA\", \"GRC\", \"GTM\", \"GIN\", \"GNB\", \"HTI\", \"HND\", \"HKG\", \"HUN\", \"ISL\", \"IND\", \"IDN\", \"IRN\", \"IRQ\", \"IRL\", \"ISR\", \"ITA\", \"JAM\", \"JPN\", \"JOR\", \"KEN\", \"KOR\", \"KOR\", \"KWT\", \"LBN\", \"LSO\", \"LBR\", \"LBY\", \"MDG\", \"MWI\", \"MYS\", \"MLI\", \"MRT\", \"MUS\", \"MEX\", \"MNG\", \"MNE\", \"MAR\", \"MOZ\", \"MMR\", \"NAM\", \"NPL\", \"NLD\", \"NZL\", \"NIC\", \"NER\", \"NGA\", \"NOR\", \"OMN\", \"PAK\", \"PAN\", \"PRY\", \"PER\", \"PHL\", \"POL\", \"PRT\", \"PRI\", \"REU\", \"ROU\", \"RWA\", \"STP\", \"SAU\", \"SEN\", \"SRB\", \"SLE\", \"SGP\", \"SVK\", \"SVN\", \"SOM\", \"ZAF\", \"ESP\", \"LKA\", \"SDN\", \"SWZ\", \"SWE\", \"CHE\", \"SYR\", \"TWN\", \"TZA\", \"THA\", \"TGO\", \"TTO\", \"TUN\", \"TUR\", \"UGA\", \"GBR\", \"USA\", \"URY\", \"VEN\", \"VNM\", \"PSE\", \"YEM\", \"ZMB\", \"ZWE\"], \"name\": \"\", \"type\": \"choropleth\", \"z\": [30.973451327433626, 13.571428571428571, 29.213483146067414, 29.213483146067414, 36.36363636363637, 23.432343234323433, 13.571428571428571, 30.973451327433626, 30.973451327433626, 13.571428571428571, 29.213483146067414, 36.36363636363637, 13.571428571428571, 29.213483146067414, 36.36363636363637, 13.571428571428571, 29.213483146067414, 29.213483146067414, 30.973451327433626, 29.213483146067414, 36.36363636363637, 29.213483146067414, 29.213483146067414, 36.36363636363637, 30.973451327433626, 36.36363636363637, 29.213483146067414, 29.213483146067414, 29.213483146067414, 36.36363636363637, 29.213483146067414, 13.571428571428571, 36.36363636363637, 13.571428571428571, 13.571428571428571, 29.213483146067414, 36.36363636363637, 36.36363636363637, 29.213483146067414, 36.36363636363637, 29.213483146067414, 29.213483146067414, 29.213483146067414, 13.571428571428571, 13.571428571428571, 29.213483146067414, 29.213483146067414, 13.571428571428571, 29.213483146067414, 13.571428571428571, 36.36363636363637, 29.213483146067414, 29.213483146067414, 36.36363636363637, 36.36363636363637, 30.973451327433626, 13.571428571428571, 13.571428571428571, 30.973451327433626, 30.973451327433626, 30.973451327433626, 30.973451327433626, 13.571428571428571, 30.973451327433626, 13.571428571428571, 36.36363636363637, 30.973451327433626, 30.973451327433626, 29.213483146067414, 30.973451327433626, 30.973451327433626, 30.973451327433626, 30.973451327433626, 29.213483146067414, 29.213483146067414, 29.213483146067414, 29.213483146067414, 29.213483146067414, 30.973451327433626, 29.213483146067414, 29.213483146067414, 29.213483146067414, 36.36363636363637, 30.973451327433626, 13.571428571428571, 29.213483146067414, 29.213483146067414, 30.973451327433626, 29.213483146067414, 30.973451327433626, 13.571428571428571, 23.432343234323433, 36.36363636363637, 29.213483146067414, 29.213483146067414, 13.571428571428571, 30.973451327433626, 30.973451327433626, 36.36363636363637, 36.36363636363637, 36.36363636363637, 30.973451327433626, 13.571428571428571, 13.571428571428571, 36.36363636363637, 29.213483146067414, 13.571428571428571, 29.213483146067414, 29.213483146067414, 30.973451327433626, 29.213483146067414, 13.571428571428571, 29.213483146067414, 30.973451327433626, 13.571428571428571, 13.571428571428571, 29.213483146067414, 29.213483146067414, 13.571428571428571, 30.973451327433626, 29.213483146067414, 29.213483146067414, 13.571428571428571, 13.571428571428571, 30.973451327433626, 30.973451327433626, 29.213483146067414, 30.973451327433626, 29.213483146067414, 36.36363636363637, 29.213483146067414, 13.571428571428571, 29.213483146067414, 13.571428571428571, 36.36363636363637, 36.36363636363637, 36.36363636363637, 30.973451327433626, 30.973451327433626, 30.973451327433626, 29.213483146067414, 29.213483146067414]}],                        {\"coloraxis\": {\"colorbar\": {\"title\": {\"text\": \"ratio\"}}, \"colorscale\": [[0.0, \"rgb(255,245,240)\"], [0.125, \"rgb(254,224,210)\"], [0.25, \"rgb(252,187,161)\"], [0.375, \"rgb(252,146,114)\"], [0.5, \"rgb(251,106,74)\"], [0.625, \"rgb(239,59,44)\"], [0.75, \"rgb(203,24,29)\"], [0.875, \"rgb(165,15,21)\"], [1.0, \"rgb(103,0,13)\"]]}, \"geo\": {\"center\": {}, \"domain\": {\"x\": [0.0, 1.0], \"y\": [0.0, 1.0]}, \"projection\": {\"type\": \"natural earth\"}}, \"height\": 300, \"legend\": {\"tracegroupgap\": 0}, \"margin\": {\"b\": 0, \"l\": 0, \"r\": 0, \"t\": 0}, \"template\": {\"data\": {\"bar\": [{\"error_x\": {\"color\": \"#2a3f5f\"}, \"error_y\": {\"color\": \"#2a3f5f\"}, \"marker\": {\"line\": {\"color\": \"#E5ECF6\", \"width\": 0.5}}, \"type\": \"bar\"}], \"barpolar\": [{\"marker\": {\"line\": {\"color\": \"#E5ECF6\", \"width\": 0.5}}, \"type\": \"barpolar\"}], \"carpet\": [{\"aaxis\": {\"endlinecolor\": \"#2a3f5f\", \"gridcolor\": \"white\", \"linecolor\": \"white\", \"minorgridcolor\": \"white\", \"startlinecolor\": \"#2a3f5f\"}, \"baxis\": {\"endlinecolor\": \"#2a3f5f\", \"gridcolor\": \"white\", \"linecolor\": \"white\", \"minorgridcolor\": \"white\", \"startlinecolor\": \"#2a3f5f\"}, \"type\": \"carpet\"}], \"choropleth\": [{\"colorbar\": {\"outlinewidth\": 0, \"ticks\": \"\"}, \"type\": \"choropleth\"}], \"contour\": [{\"colorbar\": {\"outlinewidth\": 0, \"ticks\": \"\"}, \"colorscale\": [[0.0, \"#0d0887\"], [0.1111111111111111, \"#46039f\"], [0.2222222222222222, \"#7201a8\"], [0.3333333333333333, \"#9c179e\"], [0.4444444444444444, \"#bd3786\"], [0.5555555555555556, \"#d8576b\"], [0.6666666666666666, \"#ed7953\"], [0.7777777777777778, \"#fb9f3a\"], [0.8888888888888888, \"#fdca26\"], [1.0, \"#f0f921\"]], \"type\": \"contour\"}], \"contourcarpet\": [{\"colorbar\": {\"outlinewidth\": 0, \"ticks\": \"\"}, \"type\": \"contourcarpet\"}], \"heatmap\": [{\"colorbar\": {\"outlinewidth\": 0, \"ticks\": \"\"}, \"colorscale\": [[0.0, \"#0d0887\"], [0.1111111111111111, \"#46039f\"], [0.2222222222222222, \"#7201a8\"], [0.3333333333333333, \"#9c179e\"], [0.4444444444444444, \"#bd3786\"], [0.5555555555555556, \"#d8576b\"], [0.6666666666666666, \"#ed7953\"], [0.7777777777777778, \"#fb9f3a\"], [0.8888888888888888, \"#fdca26\"], [1.0, \"#f0f921\"]], \"type\": \"heatmap\"}], \"heatmapgl\": [{\"colorbar\": {\"outlinewidth\": 0, \"ticks\": \"\"}, \"colorscale\": [[0.0, \"#0d0887\"], [0.1111111111111111, \"#46039f\"], [0.2222222222222222, \"#7201a8\"], [0.3333333333333333, \"#9c179e\"], [0.4444444444444444, \"#bd3786\"], [0.5555555555555556, \"#d8576b\"], [0.6666666666666666, \"#ed7953\"], [0.7777777777777778, \"#fb9f3a\"], [0.8888888888888888, \"#fdca26\"], [1.0, \"#f0f921\"]], \"type\": \"heatmapgl\"}], \"histogram\": [{\"marker\": {\"colorbar\": {\"outlinewidth\": 0, \"ticks\": \"\"}}, \"type\": \"histogram\"}], \"histogram2d\": [{\"colorbar\": {\"outlinewidth\": 0, \"ticks\": \"\"}, \"colorscale\": [[0.0, \"#0d0887\"], [0.1111111111111111, \"#46039f\"], [0.2222222222222222, \"#7201a8\"], [0.3333333333333333, \"#9c179e\"], [0.4444444444444444, \"#bd3786\"], [0.5555555555555556, \"#d8576b\"], [0.6666666666666666, \"#ed7953\"], [0.7777777777777778, \"#fb9f3a\"], [0.8888888888888888, \"#fdca26\"], [1.0, \"#f0f921\"]], \"type\": \"histogram2d\"}], \"histogram2dcontour\": [{\"colorbar\": {\"outlinewidth\": 0, \"ticks\": \"\"}, \"colorscale\": [[0.0, \"#0d0887\"], [0.1111111111111111, \"#46039f\"], [0.2222222222222222, \"#7201a8\"], [0.3333333333333333, \"#9c179e\"], [0.4444444444444444, \"#bd3786\"], [0.5555555555555556, \"#d8576b\"], [0.6666666666666666, \"#ed7953\"], [0.7777777777777778, \"#fb9f3a\"], [0.8888888888888888, \"#fdca26\"], [1.0, \"#f0f921\"]], \"type\": \"histogram2dcontour\"}], \"mesh3d\": [{\"colorbar\": {\"outlinewidth\": 0, \"ticks\": \"\"}, \"type\": \"mesh3d\"}], \"parcoords\": [{\"line\": {\"colorbar\": {\"outlinewidth\": 0, \"ticks\": \"\"}}, \"type\": \"parcoords\"}], \"pie\": [{\"automargin\": true, \"type\": \"pie\"}], \"scatter\": [{\"marker\": {\"colorbar\": {\"outlinewidth\": 0, \"ticks\": \"\"}}, \"type\": \"scatter\"}], \"scatter3d\": [{\"line\": {\"colorbar\": {\"outlinewidth\": 0, \"ticks\": \"\"}}, \"marker\": {\"colorbar\": {\"outlinewidth\": 0, \"ticks\": \"\"}}, \"type\": \"scatter3d\"}], \"scattercarpet\": [{\"marker\": {\"colorbar\": {\"outlinewidth\": 0, \"ticks\": \"\"}}, \"type\": \"scattercarpet\"}], \"scattergeo\": [{\"marker\": {\"colorbar\": {\"outlinewidth\": 0, \"ticks\": \"\"}}, \"type\": \"scattergeo\"}], \"scattergl\": [{\"marker\": {\"colorbar\": {\"outlinewidth\": 0, \"ticks\": \"\"}}, \"type\": \"scattergl\"}], \"scattermapbox\": [{\"marker\": {\"colorbar\": {\"outlinewidth\": 0, \"ticks\": \"\"}}, \"type\": \"scattermapbox\"}], \"scatterpolar\": [{\"marker\": {\"colorbar\": {\"outlinewidth\": 0, \"ticks\": \"\"}}, \"type\": \"scatterpolar\"}], \"scatterpolargl\": [{\"marker\": {\"colorbar\": {\"outlinewidth\": 0, \"ticks\": \"\"}}, \"type\": \"scatterpolargl\"}], \"scatterternary\": [{\"marker\": {\"colorbar\": {\"outlinewidth\": 0, \"ticks\": \"\"}}, \"type\": \"scatterternary\"}], \"surface\": [{\"colorbar\": {\"outlinewidth\": 0, \"ticks\": \"\"}, \"colorscale\": [[0.0, \"#0d0887\"], [0.1111111111111111, \"#46039f\"], [0.2222222222222222, \"#7201a8\"], [0.3333333333333333, \"#9c179e\"], [0.4444444444444444, \"#bd3786\"], [0.5555555555555556, \"#d8576b\"], [0.6666666666666666, \"#ed7953\"], [0.7777777777777778, \"#fb9f3a\"], [0.8888888888888888, \"#fdca26\"], [1.0, \"#f0f921\"]], \"type\": \"surface\"}], \"table\": [{\"cells\": {\"fill\": {\"color\": \"#EBF0F8\"}, \"line\": {\"color\": \"white\"}}, \"header\": {\"fill\": {\"color\": \"#C8D4E3\"}, \"line\": {\"color\": \"white\"}}, \"type\": \"table\"}]}, \"layout\": {\"annotationdefaults\": {\"arrowcolor\": \"#2a3f5f\", \"arrowhead\": 0, \"arrowwidth\": 1}, \"autotypenumbers\": \"strict\", \"coloraxis\": {\"colorbar\": {\"outlinewidth\": 0, \"ticks\": \"\"}}, \"colorscale\": {\"diverging\": [[0, \"#8e0152\"], [0.1, \"#c51b7d\"], [0.2, \"#de77ae\"], [0.3, \"#f1b6da\"], [0.4, \"#fde0ef\"], [0.5, \"#f7f7f7\"], [0.6, \"#e6f5d0\"], [0.7, \"#b8e186\"], [0.8, \"#7fbc41\"], [0.9, \"#4d9221\"], [1, \"#276419\"]], \"sequential\": [[0.0, \"#0d0887\"], [0.1111111111111111, \"#46039f\"], [0.2222222222222222, \"#7201a8\"], [0.3333333333333333, \"#9c179e\"], [0.4444444444444444, \"#bd3786\"], [0.5555555555555556, \"#d8576b\"], [0.6666666666666666, \"#ed7953\"], [0.7777777777777778, \"#fb9f3a\"], [0.8888888888888888, \"#fdca26\"], [1.0, \"#f0f921\"]], \"sequentialminus\": [[0.0, \"#0d0887\"], [0.1111111111111111, \"#46039f\"], [0.2222222222222222, \"#7201a8\"], [0.3333333333333333, \"#9c179e\"], [0.4444444444444444, \"#bd3786\"], [0.5555555555555556, \"#d8576b\"], [0.6666666666666666, \"#ed7953\"], [0.7777777777777778, \"#fb9f3a\"], [0.8888888888888888, \"#fdca26\"], [1.0, \"#f0f921\"]]}, \"colorway\": [\"#636efa\", \"#EF553B\", \"#00cc96\", \"#ab63fa\", \"#FFA15A\", \"#19d3f3\", \"#FF6692\", \"#B6E880\", \"#FF97FF\", \"#FECB52\"], \"font\": {\"color\": \"#2a3f5f\"}, \"geo\": {\"bgcolor\": \"white\", \"lakecolor\": \"white\", \"landcolor\": \"#E5ECF6\", \"showlakes\": true, \"showland\": true, \"subunitcolor\": \"white\"}, \"hoverlabel\": {\"align\": \"left\"}, \"hovermode\": \"closest\", \"mapbox\": {\"style\": \"light\"}, \"paper_bgcolor\": \"white\", \"plot_bgcolor\": \"#E5ECF6\", \"polar\": {\"angularaxis\": {\"gridcolor\": \"white\", \"linecolor\": \"white\", \"ticks\": \"\"}, \"bgcolor\": \"#E5ECF6\", \"radialaxis\": {\"gridcolor\": \"white\", \"linecolor\": \"white\", \"ticks\": \"\"}}, \"scene\": {\"xaxis\": {\"backgroundcolor\": \"#E5ECF6\", \"gridcolor\": \"white\", \"gridwidth\": 2, \"linecolor\": \"white\", \"showbackground\": true, \"ticks\": \"\", \"zerolinecolor\": \"white\"}, \"yaxis\": {\"backgroundcolor\": \"#E5ECF6\", \"gridcolor\": \"white\", \"gridwidth\": 2, \"linecolor\": \"white\", \"showbackground\": true, \"ticks\": \"\", \"zerolinecolor\": \"white\"}, \"zaxis\": {\"backgroundcolor\": \"#E5ECF6\", \"gridcolor\": \"white\", \"gridwidth\": 2, \"linecolor\": \"white\", \"showbackground\": true, \"ticks\": \"\", \"zerolinecolor\": \"white\"}}, \"shapedefaults\": {\"line\": {\"color\": \"#2a3f5f\"}}, \"ternary\": {\"aaxis\": {\"gridcolor\": \"white\", \"linecolor\": \"white\", \"ticks\": \"\"}, \"baxis\": {\"gridcolor\": \"white\", \"linecolor\": \"white\", \"ticks\": \"\"}, \"bgcolor\": \"#E5ECF6\", \"caxis\": {\"gridcolor\": \"white\", \"linecolor\": \"white\", \"ticks\": \"\"}}, \"title\": {\"x\": 0.05}, \"xaxis\": {\"automargin\": true, \"gridcolor\": \"white\", \"linecolor\": \"white\", \"ticks\": \"\", \"title\": {\"standoff\": 15}, \"zerolinecolor\": \"white\", \"zerolinewidth\": 2}, \"yaxis\": {\"automargin\": true, \"gridcolor\": \"white\", \"linecolor\": \"white\", \"ticks\": \"\", \"title\": {\"standoff\": 15}, \"zerolinecolor\": \"white\", \"zerolinewidth\": 2}}}},                        {\"responsive\": true}                    ).then(function(){\n",
       "                            \n",
       "var gd = document.getElementById('cc553fd1-ec76-4854-ad1b-980b38234b79');\n",
       "var x = new MutationObserver(function (mutations, observer) {{\n",
       "        var display = window.getComputedStyle(gd).display;\n",
       "        if (!display || display === 'none') {{\n",
       "            console.log([gd, 'removed!']);\n",
       "            Plotly.purge(gd);\n",
       "            observer.disconnect();\n",
       "        }}\n",
       "}});\n",
       "\n",
       "// Listen for the removal of the full notebook cells\n",
       "var notebookContainer = gd.closest('#notebook-container');\n",
       "if (notebookContainer) {{\n",
       "    x.observe(notebookContainer, {childList: true});\n",
       "}}\n",
       "\n",
       "// Listen for the clearing of the current output cell\n",
       "var outputEl = gd.closest('.output');\n",
       "if (outputEl) {{\n",
       "    x.observe(outputEl, {childList: true});\n",
       "}}\n",
       "\n",
       "                        })                };                });            </script>        </div>"
      ]
     },
     "metadata": {},
     "output_type": "display_data"
    }
   ],
   "source": [
    "fig = go.Figure(go.Scattergeo())\n",
    "\n",
    "gapminder = px.data.gapminder().query(\"year==2007\")\n",
    "geojson = px.data.election_geojson()\n",
    "\n",
    "df = pd.merge(gapminder, Continents_df, how='left', on='continent')\n",
    "\n",
    "fig = px.choropleth(df, locations=\"iso_alpha\",\n",
    "                    color=\"ratio\", \n",
    "                    hover_name=\"continent\",\n",
    "                    color_continuous_scale = 'Reds')\n",
    "fig.update_geos(projection_type=\"natural earth\")\n",
    "fig.update_layout(height=300, margin={\"r\":0,\"t\":0,\"l\":0,\"b\":0})\n",
    "fig.show()"
   ]
  }
 ],
 "metadata": {
  "kernelspec": {
   "display_name": "Python 3",
   "language": "python",
   "name": "python3"
  },
  "language_info": {
   "codemirror_mode": {
    "name": "ipython",
    "version": 3
   },
   "file_extension": ".py",
   "mimetype": "text/x-python",
   "name": "python",
   "nbconvert_exporter": "python",
   "pygments_lexer": "ipython3",
   "version": "3.8.3"
  }
 },
 "nbformat": 4,
 "nbformat_minor": 4
}
